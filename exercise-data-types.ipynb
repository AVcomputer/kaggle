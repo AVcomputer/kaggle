{
 "cells": [
  {
   "cell_type": "markdown",
   "id": "d4647f0b",
   "metadata": {
    "papermill": {
     "duration": 0.010468,
     "end_time": "2023-02-05T03:03:11.694472",
     "exception": false,
     "start_time": "2023-02-05T03:03:11.684004",
     "status": "completed"
    },
    "tags": []
   },
   "source": [
    "**This notebook is an exercise in the [Intro to Programming](https://www.kaggle.com/learn/intro-to-programming) course.  You can reference the tutorial at [this link](https://www.kaggle.com/alexisbcook/data-types).**\n",
    "\n",
    "---\n"
   ]
  },
  {
   "cell_type": "markdown",
   "id": "786e42a5",
   "metadata": {
    "papermill": {
     "duration": 0.00967,
     "end_time": "2023-02-05T03:03:11.713051",
     "exception": false,
     "start_time": "2023-02-05T03:03:11.703381",
     "status": "completed"
    },
    "tags": []
   },
   "source": [
    "In the tutorial, you learned about four different data types: floats, integers, strings, and booleans.  In this exercise, you'll experiment with them.\n",
    "\n",
    "# Set up the notebook\n",
    "\n",
    "Run the next code cell without changes to set up the notebook."
   ]
  },
  {
   "cell_type": "code",
   "execution_count": 1,
   "id": "2e4bf7b1",
   "metadata": {
    "execution": {
     "iopub.execute_input": "2023-02-05T03:03:11.729887Z",
     "iopub.status.busy": "2023-02-05T03:03:11.729256Z",
     "iopub.status.idle": "2023-02-05T03:03:11.794865Z",
     "shell.execute_reply": "2023-02-05T03:03:11.793268Z"
    },
    "papermill": {
     "duration": 0.077775,
     "end_time": "2023-02-05T03:03:11.798047",
     "exception": false,
     "start_time": "2023-02-05T03:03:11.720272",
     "status": "completed"
    },
    "tags": []
   },
   "outputs": [
    {
     "name": "stdout",
     "output_type": "stream",
     "text": [
      "Setup complete.\n"
     ]
    }
   ],
   "source": [
    "# Set up the exercise\n",
    "from learntools.core import binder\n",
    "binder.bind(globals())\n",
    "from learntools.intro_to_programming.ex3 import *\n",
    "print('Setup complete.')"
   ]
  },
  {
   "cell_type": "markdown",
   "id": "4f572d9b",
   "metadata": {
    "papermill": {
     "duration": 0.00893,
     "end_time": "2023-02-05T03:03:11.817382",
     "exception": false,
     "start_time": "2023-02-05T03:03:11.808452",
     "status": "completed"
    },
    "tags": []
   },
   "source": [
    "# Question 1\n",
    "\n",
    "You have seen how to convert a float to an integer with the `int` function.  Try this out yourself by running the code cell below."
   ]
  },
  {
   "cell_type": "code",
   "execution_count": 2,
   "id": "89dfa811",
   "metadata": {
    "execution": {
     "iopub.execute_input": "2023-02-05T03:03:11.840131Z",
     "iopub.status.busy": "2023-02-05T03:03:11.839378Z",
     "iopub.status.idle": "2023-02-05T03:03:11.845818Z",
     "shell.execute_reply": "2023-02-05T03:03:11.844921Z"
    },
    "papermill": {
     "duration": 0.021268,
     "end_time": "2023-02-05T03:03:11.848745",
     "exception": false,
     "start_time": "2023-02-05T03:03:11.827477",
     "status": "completed"
    },
    "tags": []
   },
   "outputs": [
    {
     "name": "stdout",
     "output_type": "stream",
     "text": [
      "1.0\n",
      "<class 'float'>\n",
      "1\n",
      "<class 'int'>\n"
     ]
    }
   ],
   "source": [
    "# Define a float\n",
    "y = 1.\n",
    "print(y)\n",
    "print(type(y))\n",
    "\n",
    "# Convert float to integer with the int function\n",
    "z = int(y)\n",
    "print(z)\n",
    "print(type(z))"
   ]
  },
  {
   "cell_type": "markdown",
   "id": "a9dc7d3f",
   "metadata": {
    "papermill": {
     "duration": 0.011057,
     "end_time": "2023-02-05T03:03:11.869930",
     "exception": false,
     "start_time": "2023-02-05T03:03:11.858873",
     "status": "completed"
    },
    "tags": []
   },
   "source": [
    "In this case, the float you are using has no numbers after the decimal.  \n",
    "- But what happens when you try to convert a float with a fractional part to an integer?  \n",
    "- How does the outcome of the `int` function change for positive and negative numbers?\n",
    "\n",
    "Use the next code cell to investigate and answer these questions.  Feel free to add or remove any lines of code -- it is your workspace!"
   ]
  },
  {
   "cell_type": "code",
   "execution_count": 3,
   "id": "af5509d4",
   "metadata": {
    "execution": {
     "iopub.execute_input": "2023-02-05T03:03:11.894148Z",
     "iopub.status.busy": "2023-02-05T03:03:11.893191Z",
     "iopub.status.idle": "2023-02-05T03:03:11.901998Z",
     "shell.execute_reply": "2023-02-05T03:03:11.900504Z"
    },
    "papermill": {
     "duration": 0.024229,
     "end_time": "2023-02-05T03:03:11.904796",
     "exception": false,
     "start_time": "2023-02-05T03:03:11.880567",
     "status": "completed"
    },
    "tags": []
   },
   "outputs": [
    {
     "name": "stdout",
     "output_type": "stream",
     "text": [
      "1\n",
      "1\n",
      "-3\n",
      "-2\n"
     ]
    }
   ],
   "source": [
    " #Uncomment and run this code to get started!\n",
    "print(int(1.2321))\n",
    "print(int(1.747))\n",
    "print(int(-3.94535))\n",
    "print(int(-2.19774))"
   ]
  },
  {
   "cell_type": "markdown",
   "id": "f0cfb177",
   "metadata": {
    "papermill": {
     "duration": 0.007137,
     "end_time": "2023-02-05T03:03:11.919414",
     "exception": false,
     "start_time": "2023-02-05T03:03:11.912277",
     "status": "completed"
    },
    "tags": []
   },
   "source": [
    "Once you have an answer, run the code cell below to see the solution.  Viewing the solution will give you credit for answering the problem."
   ]
  },
  {
   "cell_type": "code",
   "execution_count": 4,
   "id": "e17adac9",
   "metadata": {
    "execution": {
     "iopub.execute_input": "2023-02-05T03:03:11.937218Z",
     "iopub.status.busy": "2023-02-05T03:03:11.936124Z",
     "iopub.status.idle": "2023-02-05T03:03:11.950497Z",
     "shell.execute_reply": "2023-02-05T03:03:11.949184Z"
    },
    "papermill": {
     "duration": 0.026362,
     "end_time": "2023-02-05T03:03:11.953148",
     "exception": false,
     "start_time": "2023-02-05T03:03:11.926786",
     "status": "completed"
    },
    "tags": []
   },
   "outputs": [
    {
     "data": {
      "application/javascript": [
       "parent.postMessage({\"jupyterEvent\": \"custom.exercise_interaction\", \"data\": {\"outcomeType\": 1, \"valueTowardsCompletion\": 0.2, \"interactionType\": 1, \"questionType\": 4, \"questionId\": \"1_FloatToInt\", \"learnToolsVersion\": \"0.3.4\", \"failureMessage\": \"\", \"exceptionClass\": \"\", \"trace\": \"\"}}, \"*\")"
      ],
      "text/plain": [
       "<IPython.core.display.Javascript object>"
      ]
     },
     "metadata": {},
     "output_type": "display_data"
    },
    {
     "data": {
      "text/markdown": [
       "<span style=\"color:#33cc33\">Correct:</span> \n",
       "\n",
       "Negative floats are always rounded UP to the closest integer (for instance, both -1.1 and -1.9 are rounded up to -1). Positive floats are always rounded DOWN to the closest integer (for instance, 2.1 and 2.9 are rounded down to 2)."
      ],
      "text/plain": [
       "Correct: \n",
       "\n",
       "Negative floats are always rounded UP to the closest integer (for instance, both -1.1 and -1.9 are rounded up to -1). Positive floats are always rounded DOWN to the closest integer (for instance, 2.1 and 2.9 are rounded down to 2)."
      ]
     },
     "metadata": {},
     "output_type": "display_data"
    }
   ],
   "source": [
    "# Check your answer (Run this code cell to receive credit!)\n",
    "q1.check()"
   ]
  },
  {
   "cell_type": "markdown",
   "id": "1830faba",
   "metadata": {
    "papermill": {
     "duration": 0.007236,
     "end_time": "2023-02-05T03:03:11.968038",
     "exception": false,
     "start_time": "2023-02-05T03:03:11.960802",
     "status": "completed"
    },
    "tags": []
   },
   "source": [
    "# Question 2\n",
    "\n",
    "In the tutorial, you learned about booleans (which can take a value of `True` or `False`), in addition to integers, floats, and strings.  For this question, your goal is to determine what happens when you multiply a boolean by any of these data types.  Specifically, \n",
    "- What happens when you multiply an integer or float by `True`?  What happens when you multiply them by `False`?  How does the answer change if the numbers are positive or negative?\n",
    "- What happens when you multiply a string by `True`?  By `False`?\n",
    "\n",
    "Use the next code cell for your investigation. "
   ]
  },
  {
   "cell_type": "code",
   "execution_count": 5,
   "id": "9d2337f2",
   "metadata": {
    "execution": {
     "iopub.execute_input": "2023-02-05T03:03:11.990370Z",
     "iopub.status.busy": "2023-02-05T03:03:11.989350Z",
     "iopub.status.idle": "2023-02-05T03:03:11.997140Z",
     "shell.execute_reply": "2023-02-05T03:03:11.996042Z"
    },
    "papermill": {
     "duration": 0.025887,
     "end_time": "2023-02-05T03:03:12.003303",
     "exception": false,
     "start_time": "2023-02-05T03:03:11.977416",
     "status": "completed"
    },
    "tags": []
   },
   "outputs": [
    {
     "name": "stdout",
     "output_type": "stream",
     "text": [
      "3\n",
      "-3.1\n",
      "<class 'str'>\n",
      "0\n"
     ]
    }
   ],
   "source": [
    "# Uncomment and run this code to get started!\n",
    "print(3 * True)\n",
    "print(-3.1 * True)\n",
    "print(type(\"abc\" * False))\n",
    "print(len(\"abc\" * False))"
   ]
  },
  {
   "cell_type": "markdown",
   "id": "dbea7cc0",
   "metadata": {
    "papermill": {
     "duration": 0.009957,
     "end_time": "2023-02-05T03:03:12.026308",
     "exception": false,
     "start_time": "2023-02-05T03:03:12.016351",
     "status": "completed"
    },
    "tags": []
   },
   "source": [
    "Once you have an answer, run the code cell below to see the solution.  Viewing the solution will give you credit for answering the problem."
   ]
  },
  {
   "cell_type": "code",
   "execution_count": 6,
   "id": "04fdd327",
   "metadata": {
    "execution": {
     "iopub.execute_input": "2023-02-05T03:03:12.048136Z",
     "iopub.status.busy": "2023-02-05T03:03:12.047610Z",
     "iopub.status.idle": "2023-02-05T03:03:12.058081Z",
     "shell.execute_reply": "2023-02-05T03:03:12.056875Z"
    },
    "papermill": {
     "duration": 0.023627,
     "end_time": "2023-02-05T03:03:12.060598",
     "exception": false,
     "start_time": "2023-02-05T03:03:12.036971",
     "status": "completed"
    },
    "tags": []
   },
   "outputs": [
    {
     "data": {
      "application/javascript": [
       "parent.postMessage({\"jupyterEvent\": \"custom.exercise_interaction\", \"data\": {\"outcomeType\": 1, \"valueTowardsCompletion\": 0.2, \"interactionType\": 1, \"questionType\": 4, \"questionId\": \"2_MultiplyBooleans\", \"learnToolsVersion\": \"0.3.4\", \"failureMessage\": \"\", \"exceptionClass\": \"\", \"trace\": \"\"}}, \"*\")"
      ],
      "text/plain": [
       "<IPython.core.display.Javascript object>"
      ]
     },
     "metadata": {},
     "output_type": "display_data"
    },
    {
     "data": {
      "text/markdown": [
       "<span style=\"color:#33cc33\">Correct:</span> \n",
       "\n",
       "When you multiple an integer or float by a boolean with value `True`, it just returns that same integer or float (and is equivalent to multiplying by 1).  If you multiply an integer or float by a boolean with value `False`, it always returns 0.  This is true for both positive and negative numbers.  If you multiply a string by a boolean with value `True`, it just returns that same string.  And if you multiply a string by a boolean with value `False`, it returns an empty string (or a string with length zero)."
      ],
      "text/plain": [
       "Correct: \n",
       "\n",
       "When you multiple an integer or float by a boolean with value `True`, it just returns that same integer or float (and is equivalent to multiplying by 1).  If you multiply an integer or float by a boolean with value `False`, it always returns 0.  This is true for both positive and negative numbers.  If you multiply a string by a boolean with value `True`, it just returns that same string.  And if you multiply a string by a boolean with value `False`, it returns an empty string (or a string with length zero)."
      ]
     },
     "metadata": {},
     "output_type": "display_data"
    }
   ],
   "source": [
    "# Check your answer (Run this code cell to receive credit!)\n",
    "q2.check()"
   ]
  },
  {
   "cell_type": "markdown",
   "id": "13a337ff",
   "metadata": {
    "papermill": {
     "duration": 0.007589,
     "end_time": "2023-02-05T03:03:12.075913",
     "exception": false,
     "start_time": "2023-02-05T03:03:12.068324",
     "status": "completed"
    },
    "tags": []
   },
   "source": [
    "# Question 3\n",
    "\n",
    "In this question, you will build off your work from the previous exercise to write a function that estimates the value of a house.\n",
    "\n",
    "Use the next code cell to create a function `get_expected_cost` that takes as input three variables:\n",
    "- `beds` - number of bedrooms (data type float)\n",
    "- `baths` - number of bathrooms (data type float)\n",
    "- `has_basement` - whether or not the house has a basement (data type boolean)\n",
    "\n",
    "It should return the expected cost of a house with those characteristics. Assume that:\n",
    "- the expected cost for a house with 0 bedrooms and 0 bathrooms, and no basement is 80000, \n",
    "- each bedroom adds 30000 to the expected cost,\n",
    "- each bathroom adds 10000 to the expected cost, and\n",
    "- a basement adds 40000 to the expected cost.\n",
    "\n",
    "For instance,\n",
    "- a house with 1 bedroom, 1 bathroom, and no basement has an expected cost of 80000 + 30000 + 10000 = 120000.  This value will be calculated with `get_expected_cost(1, 1, False)`.\n",
    "- a house with 2 bedrooms, 1 bathroom, and a basement has an expected cost of 80000 + 2*30000 + 10000 + 40000 = 190000.  This value will be calculated with `get_expected_cost(2, 1, True)`.\n",
    "\n",
    "Remember you can always get a hint by uncommenting `q3.hint()` in the code cell following the next!"
   ]
  },
  {
   "cell_type": "code",
   "execution_count": 7,
   "id": "8e2aaa8b",
   "metadata": {
    "execution": {
     "iopub.execute_input": "2023-02-05T03:03:12.097662Z",
     "iopub.status.busy": "2023-02-05T03:03:12.096170Z",
     "iopub.status.idle": "2023-02-05T03:03:12.110954Z",
     "shell.execute_reply": "2023-02-05T03:03:12.109727Z"
    },
    "papermill": {
     "duration": 0.027265,
     "end_time": "2023-02-05T03:03:12.113538",
     "exception": false,
     "start_time": "2023-02-05T03:03:12.086273",
     "status": "completed"
    },
    "tags": []
   },
   "outputs": [
    {
     "name": "stdout",
     "output_type": "stream",
     "text": [
      "120000\n",
      "190000\n"
     ]
    },
    {
     "data": {
      "application/javascript": [
       "parent.postMessage({\"jupyterEvent\": \"custom.exercise_interaction\", \"data\": {\"outcomeType\": 1, \"valueTowardsCompletion\": 0.2, \"interactionType\": 1, \"questionType\": 2, \"questionId\": \"3_EstimateHouseValueBool\", \"learnToolsVersion\": \"0.3.4\", \"failureMessage\": \"\", \"exceptionClass\": \"\", \"trace\": \"\"}}, \"*\")"
      ],
      "text/plain": [
       "<IPython.core.display.Javascript object>"
      ]
     },
     "metadata": {},
     "output_type": "display_data"
    },
    {
     "data": {
      "text/markdown": [
       "<span style=\"color:#33cc33\">Correct</span>"
      ],
      "text/plain": [
       "Correct"
      ]
     },
     "metadata": {},
     "output_type": "display_data"
    }
   ],
   "source": [
    "# TODO: Complete the function\n",
    "def get_expected_cost(beds, baths, has_basement):\n",
    "    house   =80000\n",
    "    bedroom =30000\n",
    "    bathroom=10000\n",
    "    basement=40000\n",
    "    value = house + (bedroom*beds) + (bathroom*baths) + (basement*has_basement)\n",
    "    return value\n",
    "\n",
    "print(get_expected_cost(1, 1, False))\n",
    "print(get_expected_cost(2, 1, True))\n",
    "\n",
    "# Check your answer \n",
    "q3.check()"
   ]
  },
  {
   "cell_type": "code",
   "execution_count": 8,
   "id": "638e8e90",
   "metadata": {
    "execution": {
     "iopub.execute_input": "2023-02-05T03:03:12.134227Z",
     "iopub.status.busy": "2023-02-05T03:03:12.133275Z",
     "iopub.status.idle": "2023-02-05T03:03:12.138967Z",
     "shell.execute_reply": "2023-02-05T03:03:12.137601Z"
    },
    "papermill": {
     "duration": 0.01857,
     "end_time": "2023-02-05T03:03:12.141569",
     "exception": false,
     "start_time": "2023-02-05T03:03:12.122999",
     "status": "completed"
    },
    "tags": []
   },
   "outputs": [],
   "source": [
    "# Uncomment to see a hint\n",
    "#q3.hint()\n",
    "\n",
    "# Uncomment to view the solution\n",
    "#q3.solution()"
   ]
  },
  {
   "cell_type": "markdown",
   "id": "ac5864da",
   "metadata": {
    "papermill": {
     "duration": 0.007531,
     "end_time": "2023-02-05T03:03:12.157441",
     "exception": false,
     "start_time": "2023-02-05T03:03:12.149910",
     "status": "completed"
    },
    "tags": []
   },
   "source": [
    "# Question 4\n",
    "\n",
    "We'll continue our study of boolean arithmetic.  For this question, your task is to provide a description of what happpens when you add booleans. \n",
    "\n",
    "Use the next code cell for your investigation.  Feel free to add or remove any lines of code - use it as your workspace!"
   ]
  },
  {
   "cell_type": "code",
   "execution_count": 9,
   "id": "8eff6fcc",
   "metadata": {
    "execution": {
     "iopub.execute_input": "2023-02-05T03:03:12.175518Z",
     "iopub.status.busy": "2023-02-05T03:03:12.175077Z",
     "iopub.status.idle": "2023-02-05T03:03:12.181973Z",
     "shell.execute_reply": "2023-02-05T03:03:12.180534Z"
    },
    "papermill": {
     "duration": 0.01995,
     "end_time": "2023-02-05T03:03:12.185417",
     "exception": false,
     "start_time": "2023-02-05T03:03:12.165467",
     "status": "completed"
    },
    "tags": []
   },
   "outputs": [
    {
     "name": "stdout",
     "output_type": "stream",
     "text": [
      "0\n",
      "1\n",
      "1\n",
      "2\n",
      "3\n"
     ]
    }
   ],
   "source": [
    "#We can translate false to 0 and True to 1\n",
    "#thus, this is basic addition\n",
    "print(False + False)\n",
    "print(True + False)\n",
    "print(False + True)\n",
    "print(True + True)\n",
    "print(False + True + True + True)"
   ]
  },
  {
   "cell_type": "markdown",
   "id": "4fd5a1ad",
   "metadata": {
    "papermill": {
     "duration": 0.007735,
     "end_time": "2023-02-05T03:03:12.201194",
     "exception": false,
     "start_time": "2023-02-05T03:03:12.193459",
     "status": "completed"
    },
    "tags": []
   },
   "source": [
    "Once you have an answer, run the code cell below to see the solution.  Viewing the solution will give you credit for answering the problem."
   ]
  },
  {
   "cell_type": "code",
   "execution_count": 10,
   "id": "2a10c439",
   "metadata": {
    "execution": {
     "iopub.execute_input": "2023-02-05T03:03:12.219775Z",
     "iopub.status.busy": "2023-02-05T03:03:12.219025Z",
     "iopub.status.idle": "2023-02-05T03:03:12.228806Z",
     "shell.execute_reply": "2023-02-05T03:03:12.227548Z"
    },
    "papermill": {
     "duration": 0.021973,
     "end_time": "2023-02-05T03:03:12.231229",
     "exception": false,
     "start_time": "2023-02-05T03:03:12.209256",
     "status": "completed"
    },
    "tags": []
   },
   "outputs": [
    {
     "data": {
      "application/javascript": [
       "parent.postMessage({\"jupyterEvent\": \"custom.exercise_interaction\", \"data\": {\"outcomeType\": 1, \"valueTowardsCompletion\": 0.2, \"interactionType\": 1, \"questionType\": 4, \"questionId\": \"4_AddingBooleans\", \"learnToolsVersion\": \"0.3.4\", \"failureMessage\": \"\", \"exceptionClass\": \"\", \"trace\": \"\"}}, \"*\")"
      ],
      "text/plain": [
       "<IPython.core.display.Javascript object>"
      ]
     },
     "metadata": {},
     "output_type": "display_data"
    },
    {
     "data": {
      "text/markdown": [
       "<span style=\"color:#33cc33\">Correct:</span> \n",
       "\n",
       "When you add booleans, adding `False` is equivalent to adding 0, and adding `True` is equivalent to adding 1."
      ],
      "text/plain": [
       "Correct: \n",
       "\n",
       "When you add booleans, adding `False` is equivalent to adding 0, and adding `True` is equivalent to adding 1."
      ]
     },
     "metadata": {},
     "output_type": "display_data"
    }
   ],
   "source": [
    "# Check your answer (Run this code cell to receive credit!)\n",
    "q4.check()"
   ]
  },
  {
   "cell_type": "markdown",
   "id": "261cea7c",
   "metadata": {
    "papermill": {
     "duration": 0.007845,
     "end_time": "2023-02-05T03:03:12.247244",
     "exception": false,
     "start_time": "2023-02-05T03:03:12.239399",
     "status": "completed"
    },
    "tags": []
   },
   "source": [
    "# 🌶️ Question 5\n",
    "\n",
    "You own an online shop where you sell rings with custom engravings.  You offer both gold plated and solid gold rings.\n",
    "- Gold plated rings have a base cost of \\\\$50, and you charge \\\\$7 per engraved unit.  \n",
    "- Solid gold rings have a base cost of \\\\$100, and you charge \\\\$10 per engraved unit.\n",
    "- Spaces and punctuation are counted as engraved units.\n",
    "\n",
    "Write a function `cost_of_project()` that takes two arguments:\n",
    "- `engraving` - a Python string with the text of the engraving\n",
    "- `solid_gold` - a Boolean that indicates whether the ring is solid gold\n",
    "\n",
    "It should return the cost of the project.  This question should be fairly challenging, and you may need a hint."
   ]
  },
  {
   "cell_type": "code",
   "execution_count": 11,
   "id": "e5d73e1a",
   "metadata": {
    "execution": {
     "iopub.execute_input": "2023-02-05T03:03:12.266019Z",
     "iopub.status.busy": "2023-02-05T03:03:12.265189Z",
     "iopub.status.idle": "2023-02-05T03:03:12.276462Z",
     "shell.execute_reply": "2023-02-05T03:03:12.275334Z"
    },
    "papermill": {
     "duration": 0.023461,
     "end_time": "2023-02-05T03:03:12.278803",
     "exception": false,
     "start_time": "2023-02-05T03:03:12.255342",
     "status": "completed"
    },
    "tags": []
   },
   "outputs": [
    {
     "data": {
      "application/javascript": [
       "parent.postMessage({\"jupyterEvent\": \"custom.exercise_interaction\", \"data\": {\"outcomeType\": 1, \"valueTowardsCompletion\": 0.2, \"interactionType\": 1, \"questionType\": 2, \"questionId\": \"5_CustomEngravings\", \"learnToolsVersion\": \"0.3.4\", \"failureMessage\": \"\", \"exceptionClass\": \"\", \"trace\": \"\"}}, \"*\")"
      ],
      "text/plain": [
       "<IPython.core.display.Javascript object>"
      ]
     },
     "metadata": {},
     "output_type": "display_data"
    },
    {
     "data": {
      "text/markdown": [
       "<span style=\"color:#33cc33\">Correct</span>"
      ],
      "text/plain": [
       "Correct"
      ]
     },
     "metadata": {},
     "output_type": "display_data"
    }
   ],
   "source": [
    "def cost_of_project(engraving, solid_gold):\n",
    "    gold_plated_base=50\n",
    "    gold_plated_engraving=7\n",
    "    solid_gold_base=100\n",
    "    solid_gold_engraving=10\n",
    "    if (solid_gold):\n",
    "        cost=solid_gold_base+(len(engraving)*solid_gold_engraving)\n",
    "    else:\n",
    "        cost=gold_plated_base+(len(engraving)*gold_plated_engraving)\n",
    "    return cost\n",
    "\n",
    "# Check your answer\n",
    "q5.check()"
   ]
  },
  {
   "cell_type": "code",
   "execution_count": 12,
   "id": "11c4438d",
   "metadata": {
    "execution": {
     "iopub.execute_input": "2023-02-05T03:03:12.298042Z",
     "iopub.status.busy": "2023-02-05T03:03:12.297227Z",
     "iopub.status.idle": "2023-02-05T03:03:12.302212Z",
     "shell.execute_reply": "2023-02-05T03:03:12.301240Z"
    },
    "papermill": {
     "duration": 0.017653,
     "end_time": "2023-02-05T03:03:12.304820",
     "exception": false,
     "start_time": "2023-02-05T03:03:12.287167",
     "status": "completed"
    },
    "tags": []
   },
   "outputs": [],
   "source": [
    "# Uncomment to see a hint\n",
    "#q5.hint()\n",
    "\n",
    "# Uncomment to view the solution\n",
    "#q5.solution()"
   ]
  },
  {
   "cell_type": "markdown",
   "id": "26dff430",
   "metadata": {
    "papermill": {
     "duration": 0.008064,
     "end_time": "2023-02-05T03:03:12.321301",
     "exception": false,
     "start_time": "2023-02-05T03:03:12.313237",
     "status": "completed"
    },
    "tags": []
   },
   "source": [
    "Run the next code cell to calculate the cost of engraving `Charlie+Denver` on a solid gold ring."
   ]
  },
  {
   "cell_type": "code",
   "execution_count": 13,
   "id": "d2651846",
   "metadata": {
    "execution": {
     "iopub.execute_input": "2023-02-05T03:03:12.342617Z",
     "iopub.status.busy": "2023-02-05T03:03:12.341841Z",
     "iopub.status.idle": "2023-02-05T03:03:12.348773Z",
     "shell.execute_reply": "2023-02-05T03:03:12.347444Z"
    },
    "papermill": {
     "duration": 0.020338,
     "end_time": "2023-02-05T03:03:12.351923",
     "exception": false,
     "start_time": "2023-02-05T03:03:12.331585",
     "status": "completed"
    },
    "tags": []
   },
   "outputs": [
    {
     "name": "stdout",
     "output_type": "stream",
     "text": [
      "240\n"
     ]
    }
   ],
   "source": [
    "project_one = cost_of_project(\"Charlie+Denver\", True)\n",
    "print(project_one)"
   ]
  },
  {
   "cell_type": "markdown",
   "id": "82b2ae4d",
   "metadata": {
    "papermill": {
     "duration": 0.011287,
     "end_time": "2023-02-05T03:03:12.376770",
     "exception": false,
     "start_time": "2023-02-05T03:03:12.365483",
     "status": "completed"
    },
    "tags": []
   },
   "source": [
    "Use the next code cell to calculate the cost of engraving `08/10/2000` on a gold plated ring."
   ]
  },
  {
   "cell_type": "code",
   "execution_count": 14,
   "id": "b48b8f73",
   "metadata": {
    "execution": {
     "iopub.execute_input": "2023-02-05T03:03:12.397546Z",
     "iopub.status.busy": "2023-02-05T03:03:12.396476Z",
     "iopub.status.idle": "2023-02-05T03:03:12.403454Z",
     "shell.execute_reply": "2023-02-05T03:03:12.402156Z"
    },
    "papermill": {
     "duration": 0.020379,
     "end_time": "2023-02-05T03:03:12.405976",
     "exception": false,
     "start_time": "2023-02-05T03:03:12.385597",
     "status": "completed"
    },
    "tags": []
   },
   "outputs": [
    {
     "name": "stdout",
     "output_type": "stream",
     "text": [
      "120\n"
     ]
    }
   ],
   "source": [
    "project_two = cost_of_project(\"08/10/2000\", False)\n",
    "print(project_two)"
   ]
  },
  {
   "cell_type": "markdown",
   "id": "0b87d121",
   "metadata": {
    "papermill": {
     "duration": 0.008239,
     "end_time": "2023-02-05T03:03:12.422796",
     "exception": false,
     "start_time": "2023-02-05T03:03:12.414557",
     "status": "completed"
    },
    "tags": []
   },
   "source": [
    "# Keep going\n",
    "\n",
    "Continue to the next lesson to **[learn about conditions and conditional statements](https://www.kaggle.com/alexisbcook/conditions-and-conditional-statements)**."
   ]
  },
  {
   "cell_type": "markdown",
   "id": "4352b99d",
   "metadata": {
    "papermill": {
     "duration": 0.0082,
     "end_time": "2023-02-05T03:03:12.440360",
     "exception": false,
     "start_time": "2023-02-05T03:03:12.432160",
     "status": "completed"
    },
    "tags": []
   },
   "source": [
    "---\n",
    "\n",
    "\n",
    "\n",
    "\n",
    "*Have questions or comments? Visit the [course discussion forum](https://www.kaggle.com/learn/intro-to-programming/discussion) to chat with other learners.*"
   ]
  }
 ],
 "metadata": {
  "kernelspec": {
   "display_name": "Python 3",
   "language": "python",
   "name": "python3"
  },
  "language_info": {
   "codemirror_mode": {
    "name": "ipython",
    "version": 3
   },
   "file_extension": ".py",
   "mimetype": "text/x-python",
   "name": "python",
   "nbconvert_exporter": "python",
   "pygments_lexer": "ipython3",
   "version": "3.7.12"
  },
  "papermill": {
   "default_parameters": {},
   "duration": 10.935683,
   "end_time": "2023-02-05T03:03:13.173241",
   "environment_variables": {},
   "exception": null,
   "input_path": "__notebook__.ipynb",
   "output_path": "__notebook__.ipynb",
   "parameters": {},
   "start_time": "2023-02-05T03:03:02.237558",
   "version": "2.3.4"
  }
 },
 "nbformat": 4,
 "nbformat_minor": 5
}
