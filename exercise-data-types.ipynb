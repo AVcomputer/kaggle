{
 "cells": [
  {
   "cell_type": "markdown",
   "id": "b081d30f",
   "metadata": {
    "papermill": {
     "duration": 0.007958,
     "end_time": "2023-02-05T01:17:05.361532",
     "exception": false,
     "start_time": "2023-02-05T01:17:05.353574",
     "status": "completed"
    },
    "tags": []
   },
   "source": [
    "**This notebook is an exercise in the [Intro to Programming](https://www.kaggle.com/learn/intro-to-programming) course.  You can reference the tutorial at [this link](https://www.kaggle.com/alexisbcook/data-types).**\n",
    "\n",
    "---\n"
   ]
  },
  {
   "cell_type": "markdown",
   "id": "5e6132ac",
   "metadata": {
    "papermill": {
     "duration": 0.006127,
     "end_time": "2023-02-05T01:17:05.374326",
     "exception": false,
     "start_time": "2023-02-05T01:17:05.368199",
     "status": "completed"
    },
    "tags": []
   },
   "source": [
    "In the tutorial, you learned about four different data types: floats, integers, strings, and booleans.  In this exercise, you'll experiment with them.\n",
    "\n",
    "# Set up the notebook\n",
    "\n",
    "Run the next code cell without changes to set up the notebook."
   ]
  },
  {
   "cell_type": "code",
   "execution_count": 1,
   "id": "aedd49b2",
   "metadata": {
    "execution": {
     "iopub.execute_input": "2023-02-05T01:17:05.389746Z",
     "iopub.status.busy": "2023-02-05T01:17:05.389208Z",
     "iopub.status.idle": "2023-02-05T01:17:05.445389Z",
     "shell.execute_reply": "2023-02-05T01:17:05.444224Z"
    },
    "papermill": {
     "duration": 0.067867,
     "end_time": "2023-02-05T01:17:05.448697",
     "exception": false,
     "start_time": "2023-02-05T01:17:05.380830",
     "status": "completed"
    },
    "tags": []
   },
   "outputs": [
    {
     "name": "stdout",
     "output_type": "stream",
     "text": [
      "Setup complete.\n"
     ]
    }
   ],
   "source": [
    "# Set up the exercise\n",
    "from learntools.core import binder\n",
    "binder.bind(globals())\n",
    "from learntools.intro_to_programming.ex3 import *\n",
    "print('Setup complete.')"
   ]
  },
  {
   "cell_type": "markdown",
   "id": "253ed2de",
   "metadata": {
    "papermill": {
     "duration": 0.006277,
     "end_time": "2023-02-05T01:17:05.461898",
     "exception": false,
     "start_time": "2023-02-05T01:17:05.455621",
     "status": "completed"
    },
    "tags": []
   },
   "source": [
    "# Question 1\n",
    "\n",
    "You have seen how to convert a float to an integer with the `int` function.  Try this out yourself by running the code cell below."
   ]
  },
  {
   "cell_type": "code",
   "execution_count": 2,
   "id": "25a893c6",
   "metadata": {
    "execution": {
     "iopub.execute_input": "2023-02-05T01:17:05.477084Z",
     "iopub.status.busy": "2023-02-05T01:17:05.476634Z",
     "iopub.status.idle": "2023-02-05T01:17:05.483195Z",
     "shell.execute_reply": "2023-02-05T01:17:05.482074Z"
    },
    "papermill": {
     "duration": 0.017524,
     "end_time": "2023-02-05T01:17:05.485944",
     "exception": false,
     "start_time": "2023-02-05T01:17:05.468420",
     "status": "completed"
    },
    "tags": []
   },
   "outputs": [
    {
     "name": "stdout",
     "output_type": "stream",
     "text": [
      "1.0\n",
      "<class 'float'>\n",
      "1\n",
      "<class 'int'>\n"
     ]
    }
   ],
   "source": [
    "# Define a float\n",
    "y = 1.\n",
    "print(y)\n",
    "print(type(y))\n",
    "\n",
    "# Convert float to integer with the int function\n",
    "z = int(y)\n",
    "print(z)\n",
    "print(type(z))"
   ]
  },
  {
   "cell_type": "markdown",
   "id": "bb47fcb3",
   "metadata": {
    "papermill": {
     "duration": 0.006393,
     "end_time": "2023-02-05T01:17:05.499081",
     "exception": false,
     "start_time": "2023-02-05T01:17:05.492688",
     "status": "completed"
    },
    "tags": []
   },
   "source": [
    "In this case, the float you are using has no numbers after the decimal.  \n",
    "- But what happens when you try to convert a float with a fractional part to an integer?  \n",
    "- How does the outcome of the `int` function change for positive and negative numbers?\n",
    "\n",
    "Use the next code cell to investigate and answer these questions.  Feel free to add or remove any lines of code -- it is your workspace!"
   ]
  },
  {
   "cell_type": "code",
   "execution_count": 3,
   "id": "7ed069c8",
   "metadata": {
    "execution": {
     "iopub.execute_input": "2023-02-05T01:17:05.514567Z",
     "iopub.status.busy": "2023-02-05T01:17:05.513773Z",
     "iopub.status.idle": "2023-02-05T01:17:05.520560Z",
     "shell.execute_reply": "2023-02-05T01:17:05.519354Z"
    },
    "papermill": {
     "duration": 0.018131,
     "end_time": "2023-02-05T01:17:05.523780",
     "exception": false,
     "start_time": "2023-02-05T01:17:05.505649",
     "status": "completed"
    },
    "tags": []
   },
   "outputs": [
    {
     "name": "stdout",
     "output_type": "stream",
     "text": [
      "1\n",
      "1\n",
      "-3\n",
      "-2\n"
     ]
    }
   ],
   "source": [
    " #Uncomment and run this code to get started!\n",
    "print(int(1.2321))\n",
    "print(int(1.747))\n",
    "print(int(-3.94535))\n",
    "print(int(-2.19774))"
   ]
  },
  {
   "cell_type": "markdown",
   "id": "41d979d3",
   "metadata": {
    "papermill": {
     "duration": 0.006597,
     "end_time": "2023-02-05T01:17:05.538274",
     "exception": false,
     "start_time": "2023-02-05T01:17:05.531677",
     "status": "completed"
    },
    "tags": []
   },
   "source": [
    "Once you have an answer, run the code cell below to see the solution.  Viewing the solution will give you credit for answering the problem."
   ]
  },
  {
   "cell_type": "code",
   "execution_count": 4,
   "id": "9059373a",
   "metadata": {
    "execution": {
     "iopub.execute_input": "2023-02-05T01:17:05.554299Z",
     "iopub.status.busy": "2023-02-05T01:17:05.553473Z",
     "iopub.status.idle": "2023-02-05T01:17:05.564333Z",
     "shell.execute_reply": "2023-02-05T01:17:05.563402Z"
    },
    "papermill": {
     "duration": 0.021255,
     "end_time": "2023-02-05T01:17:05.566375",
     "exception": false,
     "start_time": "2023-02-05T01:17:05.545120",
     "status": "completed"
    },
    "tags": []
   },
   "outputs": [
    {
     "data": {
      "application/javascript": [
       "parent.postMessage({\"jupyterEvent\": \"custom.exercise_interaction\", \"data\": {\"outcomeType\": 1, \"valueTowardsCompletion\": 0.2, \"interactionType\": 1, \"questionType\": 4, \"questionId\": \"1_FloatToInt\", \"learnToolsVersion\": \"0.3.4\", \"failureMessage\": \"\", \"exceptionClass\": \"\", \"trace\": \"\"}}, \"*\")"
      ],
      "text/plain": [
       "<IPython.core.display.Javascript object>"
      ]
     },
     "metadata": {},
     "output_type": "display_data"
    },
    {
     "data": {
      "text/markdown": [
       "<span style=\"color:#33cc33\">Correct:</span> \n",
       "\n",
       "Negative floats are always rounded UP to the closest integer (for instance, both -1.1 and -1.9 are rounded up to -1). Positive floats are always rounded DOWN to the closest integer (for instance, 2.1 and 2.9 are rounded down to 2)."
      ],
      "text/plain": [
       "Correct: \n",
       "\n",
       "Negative floats are always rounded UP to the closest integer (for instance, both -1.1 and -1.9 are rounded up to -1). Positive floats are always rounded DOWN to the closest integer (for instance, 2.1 and 2.9 are rounded down to 2)."
      ]
     },
     "metadata": {},
     "output_type": "display_data"
    }
   ],
   "source": [
    "# Check your answer (Run this code cell to receive credit!)\n",
    "q1.check()"
   ]
  },
  {
   "cell_type": "markdown",
   "id": "330ed85c",
   "metadata": {
    "papermill": {
     "duration": 0.006528,
     "end_time": "2023-02-05T01:17:05.579953",
     "exception": false,
     "start_time": "2023-02-05T01:17:05.573425",
     "status": "completed"
    },
    "tags": []
   },
   "source": [
    "# Question 2\n",
    "\n",
    "In the tutorial, you learned about booleans (which can take a value of `True` or `False`), in addition to integers, floats, and strings.  For this question, your goal is to determine what happens when you multiply a boolean by any of these data types.  Specifically, \n",
    "- What happens when you multiply an integer or float by `True`?  What happens when you multiply them by `False`?  How does the answer change if the numbers are positive or negative?\n",
    "- What happens when you multiply a string by `True`?  By `False`?\n",
    "\n",
    "Use the next code cell for your investigation. "
   ]
  },
  {
   "cell_type": "code",
   "execution_count": 5,
   "id": "16210b09",
   "metadata": {
    "execution": {
     "iopub.execute_input": "2023-02-05T01:17:05.596769Z",
     "iopub.status.busy": "2023-02-05T01:17:05.595338Z",
     "iopub.status.idle": "2023-02-05T01:17:05.602903Z",
     "shell.execute_reply": "2023-02-05T01:17:05.601727Z"
    },
    "papermill": {
     "duration": 0.018182,
     "end_time": "2023-02-05T01:17:05.604939",
     "exception": false,
     "start_time": "2023-02-05T01:17:05.586757",
     "status": "completed"
    },
    "tags": []
   },
   "outputs": [
    {
     "name": "stdout",
     "output_type": "stream",
     "text": [
      "3\n",
      "-3.1\n",
      "<class 'str'>\n",
      "0\n"
     ]
    }
   ],
   "source": [
    "# Uncomment and run this code to get started!\n",
    "print(3 * True)\n",
    "print(-3.1 * True)\n",
    "print(type(\"abc\" * False))\n",
    "print(len(\"abc\" * False))"
   ]
  },
  {
   "cell_type": "markdown",
   "id": "ba41a932",
   "metadata": {
    "papermill": {
     "duration": 0.006635,
     "end_time": "2023-02-05T01:17:05.619868",
     "exception": false,
     "start_time": "2023-02-05T01:17:05.613233",
     "status": "completed"
    },
    "tags": []
   },
   "source": [
    "Once you have an answer, run the code cell below to see the solution.  Viewing the solution will give you credit for answering the problem."
   ]
  },
  {
   "cell_type": "code",
   "execution_count": 6,
   "id": "97465408",
   "metadata": {
    "execution": {
     "iopub.execute_input": "2023-02-05T01:17:05.635842Z",
     "iopub.status.busy": "2023-02-05T01:17:05.635367Z",
     "iopub.status.idle": "2023-02-05T01:17:05.644804Z",
     "shell.execute_reply": "2023-02-05T01:17:05.643613Z"
    },
    "papermill": {
     "duration": 0.020884,
     "end_time": "2023-02-05T01:17:05.647703",
     "exception": false,
     "start_time": "2023-02-05T01:17:05.626819",
     "status": "completed"
    },
    "tags": []
   },
   "outputs": [
    {
     "data": {
      "application/javascript": [
       "parent.postMessage({\"jupyterEvent\": \"custom.exercise_interaction\", \"data\": {\"outcomeType\": 1, \"valueTowardsCompletion\": 0.2, \"interactionType\": 1, \"questionType\": 4, \"questionId\": \"2_MultiplyBooleans\", \"learnToolsVersion\": \"0.3.4\", \"failureMessage\": \"\", \"exceptionClass\": \"\", \"trace\": \"\"}}, \"*\")"
      ],
      "text/plain": [
       "<IPython.core.display.Javascript object>"
      ]
     },
     "metadata": {},
     "output_type": "display_data"
    },
    {
     "data": {
      "text/markdown": [
       "<span style=\"color:#33cc33\">Correct:</span> \n",
       "\n",
       "When you multiple an integer or float by a boolean with value `True`, it just returns that same integer or float (and is equivalent to multiplying by 1).  If you multiply an integer or float by a boolean with value `False`, it always returns 0.  This is true for both positive and negative numbers.  If you multiply a string by a boolean with value `True`, it just returns that same string.  And if you multiply a string by a boolean with value `False`, it returns an empty string (or a string with length zero)."
      ],
      "text/plain": [
       "Correct: \n",
       "\n",
       "When you multiple an integer or float by a boolean with value `True`, it just returns that same integer or float (and is equivalent to multiplying by 1).  If you multiply an integer or float by a boolean with value `False`, it always returns 0.  This is true for both positive and negative numbers.  If you multiply a string by a boolean with value `True`, it just returns that same string.  And if you multiply a string by a boolean with value `False`, it returns an empty string (or a string with length zero)."
      ]
     },
     "metadata": {},
     "output_type": "display_data"
    }
   ],
   "source": [
    "# Check your answer (Run this code cell to receive credit!)\n",
    "q2.check()"
   ]
  },
  {
   "cell_type": "markdown",
   "id": "0dd99fb9",
   "metadata": {
    "papermill": {
     "duration": 0.006851,
     "end_time": "2023-02-05T01:17:05.662013",
     "exception": false,
     "start_time": "2023-02-05T01:17:05.655162",
     "status": "completed"
    },
    "tags": []
   },
   "source": [
    "# Question 3\n",
    "\n",
    "In this question, you will build off your work from the previous exercise to write a function that estimates the value of a house.\n",
    "\n",
    "Use the next code cell to create a function `get_expected_cost` that takes as input three variables:\n",
    "- `beds` - number of bedrooms (data type float)\n",
    "- `baths` - number of bathrooms (data type float)\n",
    "- `has_basement` - whether or not the house has a basement (data type boolean)\n",
    "\n",
    "It should return the expected cost of a house with those characteristics. Assume that:\n",
    "- the expected cost for a house with 0 bedrooms and 0 bathrooms, and no basement is 80000, \n",
    "- each bedroom adds 30000 to the expected cost,\n",
    "- each bathroom adds 10000 to the expected cost, and\n",
    "- a basement adds 40000 to the expected cost.\n",
    "\n",
    "For instance,\n",
    "- a house with 1 bedroom, 1 bathroom, and no basement has an expected cost of 80000 + 30000 + 10000 = 120000.  This value will be calculated with `get_expected_cost(1, 1, False)`.\n",
    "- a house with 2 bedrooms, 1 bathroom, and a basement has an expected cost of 80000 + 2*30000 + 10000 + 40000 = 190000.  This value will be calculated with `get_expected_cost(2, 1, True)`.\n",
    "\n",
    "Remember you can always get a hint by uncommenting `q3.hint()` in the code cell following the next!"
   ]
  },
  {
   "cell_type": "code",
   "execution_count": 7,
   "id": "78c23cfe",
   "metadata": {
    "execution": {
     "iopub.execute_input": "2023-02-05T01:17:05.678166Z",
     "iopub.status.busy": "2023-02-05T01:17:05.677668Z",
     "iopub.status.idle": "2023-02-05T01:17:05.689750Z",
     "shell.execute_reply": "2023-02-05T01:17:05.688704Z"
    },
    "papermill": {
     "duration": 0.022907,
     "end_time": "2023-02-05T01:17:05.691988",
     "exception": false,
     "start_time": "2023-02-05T01:17:05.669081",
     "status": "completed"
    },
    "tags": []
   },
   "outputs": [
    {
     "name": "stdout",
     "output_type": "stream",
     "text": [
      "120000\n",
      "190000\n"
     ]
    },
    {
     "data": {
      "application/javascript": [
       "parent.postMessage({\"jupyterEvent\": \"custom.exercise_interaction\", \"data\": {\"outcomeType\": 1, \"valueTowardsCompletion\": 0.2, \"interactionType\": 1, \"questionType\": 2, \"questionId\": \"3_EstimateHouseValueBool\", \"learnToolsVersion\": \"0.3.4\", \"failureMessage\": \"\", \"exceptionClass\": \"\", \"trace\": \"\"}}, \"*\")"
      ],
      "text/plain": [
       "<IPython.core.display.Javascript object>"
      ]
     },
     "metadata": {},
     "output_type": "display_data"
    },
    {
     "data": {
      "text/markdown": [
       "<span style=\"color:#33cc33\">Correct</span>"
      ],
      "text/plain": [
       "Correct"
      ]
     },
     "metadata": {},
     "output_type": "display_data"
    }
   ],
   "source": [
    "# TODO: Complete the function\n",
    "def get_expected_cost(beds, baths, has_basement):\n",
    "    house   =80000\n",
    "    bedroom =30000\n",
    "    bathroom=10000\n",
    "    basement=40000\n",
    "    value = house + (bedroom*beds) + (bathroom*baths) + (basement*has_basement)\n",
    "    return value\n",
    "\n",
    "print(get_expected_cost(1, 1, False))\n",
    "print(get_expected_cost(2, 1, True))\n",
    "\n",
    "# Check your answer \n",
    "q3.check()"
   ]
  },
  {
   "cell_type": "code",
   "execution_count": 8,
   "id": "35c2f286",
   "metadata": {
    "execution": {
     "iopub.execute_input": "2023-02-05T01:17:05.709335Z",
     "iopub.status.busy": "2023-02-05T01:17:05.708871Z",
     "iopub.status.idle": "2023-02-05T01:17:05.713571Z",
     "shell.execute_reply": "2023-02-05T01:17:05.712485Z"
    },
    "papermill": {
     "duration": 0.016166,
     "end_time": "2023-02-05T01:17:05.715873",
     "exception": false,
     "start_time": "2023-02-05T01:17:05.699707",
     "status": "completed"
    },
    "tags": []
   },
   "outputs": [],
   "source": [
    "# Uncomment to see a hint\n",
    "#q3.hint()\n",
    "\n",
    "# Uncomment to view the solution\n",
    "#q3.solution()"
   ]
  },
  {
   "cell_type": "markdown",
   "id": "65af8ecf",
   "metadata": {
    "papermill": {
     "duration": 0.007177,
     "end_time": "2023-02-05T01:17:05.730737",
     "exception": false,
     "start_time": "2023-02-05T01:17:05.723560",
     "status": "completed"
    },
    "tags": []
   },
   "source": [
    "# Question 4\n",
    "\n",
    "We'll continue our study of boolean arithmetic.  For this question, your task is to provide a description of what happpens when you add booleans. \n",
    "\n",
    "Use the next code cell for your investigation.  Feel free to add or remove any lines of code - use it as your workspace!"
   ]
  },
  {
   "cell_type": "code",
   "execution_count": 9,
   "id": "f25bfffb",
   "metadata": {
    "execution": {
     "iopub.execute_input": "2023-02-05T01:17:05.747999Z",
     "iopub.status.busy": "2023-02-05T01:17:05.747530Z",
     "iopub.status.idle": "2023-02-05T01:17:05.753871Z",
     "shell.execute_reply": "2023-02-05T01:17:05.752782Z"
    },
    "papermill": {
     "duration": 0.018879,
     "end_time": "2023-02-05T01:17:05.757236",
     "exception": false,
     "start_time": "2023-02-05T01:17:05.738357",
     "status": "completed"
    },
    "tags": []
   },
   "outputs": [
    {
     "name": "stdout",
     "output_type": "stream",
     "text": [
      "0\n",
      "1\n",
      "1\n",
      "2\n",
      "3\n"
     ]
    }
   ],
   "source": [
    "#We can translate false to 0 and True to 1\n",
    "#thus, this is basic addition\n",
    "print(False + False)\n",
    "print(True + False)\n",
    "print(False + True)\n",
    "print(True + True)\n",
    "print(False + True + True + True)"
   ]
  },
  {
   "cell_type": "markdown",
   "id": "85b56753",
   "metadata": {
    "papermill": {
     "duration": 0.007876,
     "end_time": "2023-02-05T01:17:05.775470",
     "exception": false,
     "start_time": "2023-02-05T01:17:05.767594",
     "status": "completed"
    },
    "tags": []
   },
   "source": [
    "Once you have an answer, run the code cell below to see the solution.  Viewing the solution will give you credit for answering the problem."
   ]
  },
  {
   "cell_type": "code",
   "execution_count": 10,
   "id": "58f92372",
   "metadata": {
    "execution": {
     "iopub.execute_input": "2023-02-05T01:17:05.793020Z",
     "iopub.status.busy": "2023-02-05T01:17:05.792566Z",
     "iopub.status.idle": "2023-02-05T01:17:05.801804Z",
     "shell.execute_reply": "2023-02-05T01:17:05.800708Z"
    },
    "papermill": {
     "duration": 0.020651,
     "end_time": "2023-02-05T01:17:05.803967",
     "exception": false,
     "start_time": "2023-02-05T01:17:05.783316",
     "status": "completed"
    },
    "tags": []
   },
   "outputs": [
    {
     "data": {
      "application/javascript": [
       "parent.postMessage({\"jupyterEvent\": \"custom.exercise_interaction\", \"data\": {\"outcomeType\": 1, \"valueTowardsCompletion\": 0.2, \"interactionType\": 1, \"questionType\": 4, \"questionId\": \"4_AddingBooleans\", \"learnToolsVersion\": \"0.3.4\", \"failureMessage\": \"\", \"exceptionClass\": \"\", \"trace\": \"\"}}, \"*\")"
      ],
      "text/plain": [
       "<IPython.core.display.Javascript object>"
      ]
     },
     "metadata": {},
     "output_type": "display_data"
    },
    {
     "data": {
      "text/markdown": [
       "<span style=\"color:#33cc33\">Correct:</span> \n",
       "\n",
       "When you add booleans, adding `False` is equivalent to adding 0, and adding `True` is equivalent to adding 1."
      ],
      "text/plain": [
       "Correct: \n",
       "\n",
       "When you add booleans, adding `False` is equivalent to adding 0, and adding `True` is equivalent to adding 1."
      ]
     },
     "metadata": {},
     "output_type": "display_data"
    }
   ],
   "source": [
    "# Check your answer (Run this code cell to receive credit!)\n",
    "q4.check()"
   ]
  },
  {
   "cell_type": "markdown",
   "id": "28d159b3",
   "metadata": {
    "papermill": {
     "duration": 0.007809,
     "end_time": "2023-02-05T01:17:05.819780",
     "exception": false,
     "start_time": "2023-02-05T01:17:05.811971",
     "status": "completed"
    },
    "tags": []
   },
   "source": [
    "# 🌶️ Question 5\n",
    "\n",
    "You own an online shop where you sell rings with custom engravings.  You offer both gold plated and solid gold rings.\n",
    "- Gold plated rings have a base cost of \\\\$50, and you charge \\\\$7 per engraved unit.  \n",
    "- Solid gold rings have a base cost of \\\\$100, and you charge \\\\$10 per engraved unit.\n",
    "- Spaces and punctuation are counted as engraved units.\n",
    "\n",
    "Write a function `cost_of_project()` that takes two arguments:\n",
    "- `engraving` - a Python string with the text of the engraving\n",
    "- `solid_gold` - a Boolean that indicates whether the ring is solid gold\n",
    "\n",
    "It should return the cost of the project.  This question should be fairly challenging, and you may need a hint."
   ]
  },
  {
   "cell_type": "code",
   "execution_count": 11,
   "id": "6794c0cc",
   "metadata": {
    "execution": {
     "iopub.execute_input": "2023-02-05T01:17:05.838304Z",
     "iopub.status.busy": "2023-02-05T01:17:05.837863Z",
     "iopub.status.idle": "2023-02-05T01:17:05.847799Z",
     "shell.execute_reply": "2023-02-05T01:17:05.846693Z"
    },
    "papermill": {
     "duration": 0.021887,
     "end_time": "2023-02-05T01:17:05.850130",
     "exception": false,
     "start_time": "2023-02-05T01:17:05.828243",
     "status": "completed"
    },
    "tags": []
   },
   "outputs": [
    {
     "data": {
      "application/javascript": [
       "parent.postMessage({\"jupyterEvent\": \"custom.exercise_interaction\", \"data\": {\"outcomeType\": 1, \"valueTowardsCompletion\": 0.2, \"interactionType\": 1, \"questionType\": 2, \"questionId\": \"5_CustomEngravings\", \"learnToolsVersion\": \"0.3.4\", \"failureMessage\": \"\", \"exceptionClass\": \"\", \"trace\": \"\"}}, \"*\")"
      ],
      "text/plain": [
       "<IPython.core.display.Javascript object>"
      ]
     },
     "metadata": {},
     "output_type": "display_data"
    },
    {
     "data": {
      "text/markdown": [
       "<span style=\"color:#33cc33\">Correct</span>"
      ],
      "text/plain": [
       "Correct"
      ]
     },
     "metadata": {},
     "output_type": "display_data"
    }
   ],
   "source": [
    "def cost_of_project(engraving, solid_gold):\n",
    "    gold_plated_base=50\n",
    "    gold_plated_engraving=7\n",
    "    solid_gold_base=100\n",
    "    solid_gold_engraving=10\n",
    "    if (solid_gold):\n",
    "        cost=solid_gold_base+(len(engraving)*solid_gold_engraving)\n",
    "    else:\n",
    "        cost=gold_plated_base+(len(engraving)*gold_plated_engraving)\n",
    "    return cost\n",
    "\n",
    "# Check your answer\n",
    "q5.check()"
   ]
  },
  {
   "cell_type": "code",
   "execution_count": 12,
   "id": "a76c7ed0",
   "metadata": {
    "execution": {
     "iopub.execute_input": "2023-02-05T01:17:05.868546Z",
     "iopub.status.busy": "2023-02-05T01:17:05.868090Z",
     "iopub.status.idle": "2023-02-05T01:17:05.872241Z",
     "shell.execute_reply": "2023-02-05T01:17:05.871434Z"
    },
    "papermill": {
     "duration": 0.016162,
     "end_time": "2023-02-05T01:17:05.874555",
     "exception": false,
     "start_time": "2023-02-05T01:17:05.858393",
     "status": "completed"
    },
    "tags": []
   },
   "outputs": [],
   "source": [
    "# Uncomment to see a hint\n",
    "#q5.hint()\n",
    "\n",
    "# Uncomment to view the solution\n",
    "#q5.solution()"
   ]
  },
  {
   "cell_type": "markdown",
   "id": "98c51069",
   "metadata": {
    "papermill": {
     "duration": 0.007789,
     "end_time": "2023-02-05T01:17:05.890415",
     "exception": false,
     "start_time": "2023-02-05T01:17:05.882626",
     "status": "completed"
    },
    "tags": []
   },
   "source": [
    "Run the next code cell to calculate the cost of engraving `Charlie+Denver` on a solid gold ring."
   ]
  },
  {
   "cell_type": "code",
   "execution_count": 13,
   "id": "c0e5fbab",
   "metadata": {
    "execution": {
     "iopub.execute_input": "2023-02-05T01:17:05.908829Z",
     "iopub.status.busy": "2023-02-05T01:17:05.907813Z",
     "iopub.status.idle": "2023-02-05T01:17:05.913877Z",
     "shell.execute_reply": "2023-02-05T01:17:05.912747Z"
    },
    "papermill": {
     "duration": 0.018054,
     "end_time": "2023-02-05T01:17:05.916333",
     "exception": false,
     "start_time": "2023-02-05T01:17:05.898279",
     "status": "completed"
    },
    "tags": []
   },
   "outputs": [
    {
     "name": "stdout",
     "output_type": "stream",
     "text": [
      "240\n"
     ]
    }
   ],
   "source": [
    "project_one = cost_of_project(\"Charlie+Denver\", True)\n",
    "print(project_one)"
   ]
  },
  {
   "cell_type": "markdown",
   "id": "02ebdfa5",
   "metadata": {
    "papermill": {
     "duration": 0.007886,
     "end_time": "2023-02-05T01:17:05.932699",
     "exception": false,
     "start_time": "2023-02-05T01:17:05.924813",
     "status": "completed"
    },
    "tags": []
   },
   "source": [
    "Use the next code cell to calculate the cost of engraving `08/10/2000` on a gold plated ring."
   ]
  },
  {
   "cell_type": "code",
   "execution_count": 14,
   "id": "9b5faa0f",
   "metadata": {
    "execution": {
     "iopub.execute_input": "2023-02-05T01:17:05.951632Z",
     "iopub.status.busy": "2023-02-05T01:17:05.951113Z",
     "iopub.status.idle": "2023-02-05T01:17:05.957458Z",
     "shell.execute_reply": "2023-02-05T01:17:05.956219Z"
    },
    "papermill": {
     "duration": 0.018402,
     "end_time": "2023-02-05T01:17:05.959650",
     "exception": false,
     "start_time": "2023-02-05T01:17:05.941248",
     "status": "completed"
    },
    "tags": []
   },
   "outputs": [
    {
     "name": "stdout",
     "output_type": "stream",
     "text": [
      "120\n"
     ]
    }
   ],
   "source": [
    "project_two = cost_of_project(\"08/10/2000\", False)\n",
    "print(project_two)"
   ]
  },
  {
   "cell_type": "markdown",
   "id": "2ec23666",
   "metadata": {
    "papermill": {
     "duration": 0.007638,
     "end_time": "2023-02-05T01:17:05.975330",
     "exception": false,
     "start_time": "2023-02-05T01:17:05.967692",
     "status": "completed"
    },
    "tags": []
   },
   "source": [
    "# Keep going\n",
    "\n",
    "Continue to the next lesson to **[learn about conditions and conditional statements](https://www.kaggle.com/alexisbcook/conditions-and-conditional-statements)**."
   ]
  },
  {
   "cell_type": "markdown",
   "id": "72298914",
   "metadata": {
    "papermill": {
     "duration": 0.007722,
     "end_time": "2023-02-05T01:17:05.991115",
     "exception": false,
     "start_time": "2023-02-05T01:17:05.983393",
     "status": "completed"
    },
    "tags": []
   },
   "source": [
    "---\n",
    "\n",
    "\n",
    "\n",
    "\n",
    "*Have questions or comments? Visit the [course discussion forum](https://www.kaggle.com/learn/intro-to-programming/discussion) to chat with other learners.*"
   ]
  }
 ],
 "metadata": {
  "kernelspec": {
   "display_name": "Python 3",
   "language": "python",
   "name": "python3"
  },
  "language_info": {
   "codemirror_mode": {
    "name": "ipython",
    "version": 3
   },
   "file_extension": ".py",
   "mimetype": "text/x-python",
   "name": "python",
   "nbconvert_exporter": "python",
   "pygments_lexer": "ipython3",
   "version": "3.7.12"
  },
  "papermill": {
   "default_parameters": {},
   "duration": 10.112151,
   "end_time": "2023-02-05T01:17:06.722251",
   "environment_variables": {},
   "exception": null,
   "input_path": "__notebook__.ipynb",
   "output_path": "__notebook__.ipynb",
   "parameters": {},
   "start_time": "2023-02-05T01:16:56.610100",
   "version": "2.3.4"
  }
 },
 "nbformat": 4,
 "nbformat_minor": 5
}
