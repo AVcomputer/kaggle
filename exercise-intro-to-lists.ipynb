{
 "cells": [
  {
   "cell_type": "markdown",
   "id": "1f5946b6",
   "metadata": {
    "papermill": {
     "duration": 0.005762,
     "end_time": "2023-02-05T03:01:53.412854",
     "exception": false,
     "start_time": "2023-02-05T03:01:53.407092",
     "status": "completed"
    },
    "tags": []
   },
   "source": [
    "**This notebook is an exercise in the [Intro to Programming](https://www.kaggle.com/learn/intro-to-programming) course.  You can reference the tutorial at [this link](https://www.kaggle.com/alexisbcook/intro-to-lists).**\n",
    "\n",
    "---\n"
   ]
  },
  {
   "cell_type": "markdown",
   "id": "7b32f657",
   "metadata": {
    "papermill": {
     "duration": 0.004674,
     "end_time": "2023-02-05T03:01:53.422520",
     "exception": false,
     "start_time": "2023-02-05T03:01:53.417846",
     "status": "completed"
    },
    "tags": []
   },
   "source": [
    "In the tutorial, you learned how to define and modify Python lists.  In this exercise, you will use your new knowledge to solve several problems.\n",
    "\n",
    "# Set up the notebook\n",
    "\n",
    "Run the next code cell without changes to set up the notebook."
   ]
  },
  {
   "cell_type": "code",
   "execution_count": 1,
   "id": "618fb955",
   "metadata": {
    "execution": {
     "iopub.execute_input": "2023-02-05T03:01:53.434371Z",
     "iopub.status.busy": "2023-02-05T03:01:53.433978Z",
     "iopub.status.idle": "2023-02-05T03:01:53.489780Z",
     "shell.execute_reply": "2023-02-05T03:01:53.488239Z"
    },
    "papermill": {
     "duration": 0.064501,
     "end_time": "2023-02-05T03:01:53.492026",
     "exception": false,
     "start_time": "2023-02-05T03:01:53.427525",
     "status": "completed"
    },
    "tags": []
   },
   "outputs": [
    {
     "name": "stdout",
     "output_type": "stream",
     "text": [
      "Setup complete.\n"
     ]
    }
   ],
   "source": [
    "from learntools.core import binder\n",
    "binder.bind(globals())\n",
    "from learntools.intro_to_programming.ex5 import *\n",
    "print('Setup complete.')"
   ]
  },
  {
   "cell_type": "markdown",
   "id": "38415e98",
   "metadata": {
    "papermill": {
     "duration": 0.004968,
     "end_time": "2023-02-05T03:01:53.502380",
     "exception": false,
     "start_time": "2023-02-05T03:01:53.497412",
     "status": "completed"
    },
    "tags": []
   },
   "source": [
    "# Question 1\n",
    "\n",
    "You own a restaurant with five food dishes, organized in the Python list `menu` below.  One day, you decide to:\n",
    "- remove bean soup (`'bean soup'`) from the menu, and\n",
    "- add roasted beet salad (`'roasted beet salad'`) to the menu.\n",
    "\n",
    "Implement this change to the list below.  While completing this task, \n",
    "- do not change the line that creates the `menu` list.  \n",
    "- your answer should use `.remove()` and `.append()`.  "
   ]
  },
  {
   "cell_type": "code",
   "execution_count": 2,
   "id": "59716cbd",
   "metadata": {
    "execution": {
     "iopub.execute_input": "2023-02-05T03:01:53.514753Z",
     "iopub.status.busy": "2023-02-05T03:01:53.514265Z",
     "iopub.status.idle": "2023-02-05T03:01:53.525343Z",
     "shell.execute_reply": "2023-02-05T03:01:53.524414Z"
    },
    "papermill": {
     "duration": 0.01948,
     "end_time": "2023-02-05T03:01:53.527102",
     "exception": false,
     "start_time": "2023-02-05T03:01:53.507622",
     "status": "completed"
    },
    "tags": []
   },
   "outputs": [
    {
     "data": {
      "application/javascript": [
       "parent.postMessage({\"jupyterEvent\": \"custom.exercise_interaction\", \"data\": {\"outcomeType\": 1, \"valueTowardsCompletion\": 0.2, \"interactionType\": 1, \"questionType\": 2, \"questionId\": \"1_FoodMenu\", \"learnToolsVersion\": \"0.3.4\", \"failureMessage\": \"\", \"exceptionClass\": \"\", \"trace\": \"\"}}, \"*\")"
      ],
      "text/plain": [
       "<IPython.core.display.Javascript object>"
      ]
     },
     "metadata": {},
     "output_type": "display_data"
    },
    {
     "data": {
      "text/markdown": [
       "<span style=\"color:#33cc33\">Correct</span>"
      ],
      "text/plain": [
       "Correct"
      ]
     },
     "metadata": {},
     "output_type": "display_data"
    }
   ],
   "source": [
    "# Do not change: Initial menu for your restaurant\n",
    "menu = ['stewed meat with onions', 'bean soup', 'risotto with trout and shrimp',\n",
    "       'fish soup with cream and onion', 'gyro']\n",
    "\n",
    "# TODO: remove 'bean soup', and add 'roasted beet salad' to the end of the menu\n",
    "menu.remove(\"bean soup\")\n",
    "menu.append(\"roasted beet salad\")\n",
    "\n",
    "# Do not change: Check your answer\n",
    "q1.check()"
   ]
  },
  {
   "cell_type": "code",
   "execution_count": 3,
   "id": "25878d63",
   "metadata": {
    "execution": {
     "iopub.execute_input": "2023-02-05T03:01:53.539623Z",
     "iopub.status.busy": "2023-02-05T03:01:53.539291Z",
     "iopub.status.idle": "2023-02-05T03:01:53.543520Z",
     "shell.execute_reply": "2023-02-05T03:01:53.542131Z"
    },
    "papermill": {
     "duration": 0.01352,
     "end_time": "2023-02-05T03:01:53.546066",
     "exception": false,
     "start_time": "2023-02-05T03:01:53.532546",
     "status": "completed"
    },
    "tags": []
   },
   "outputs": [],
   "source": [
    "# Uncomment to see a hint\n",
    "#q1.hint()\n",
    "\n",
    "# Uncomment to see the solution\n",
    "#q1.solution()"
   ]
  },
  {
   "cell_type": "markdown",
   "id": "598e1aab",
   "metadata": {
    "papermill": {
     "duration": 0.00527,
     "end_time": "2023-02-05T03:01:53.557074",
     "exception": false,
     "start_time": "2023-02-05T03:01:53.551804",
     "status": "completed"
    },
    "tags": []
   },
   "source": [
    "# Question 2\n",
    "\n",
    "The list `num_customers` contains the number of customers who came into your restaurant every day over the last month (which lasted thirty days).  Fill in values for each of the following:\n",
    "- `avg_first_seven` - average number of customers who visited in the first seven days\n",
    "- `avg_last_seven` - average number of customers who visited in the last seven days\n",
    "- `max_month` - number of customers on the day that got the most customers in the last month\n",
    "- `min_month` - number of customers on the day that got the least customers in the last month\n",
    "\n",
    "Answer this question by writing code.  For instance, if you have to find the minimum value in a list, use `min()` instead of scanning for the smallest value and directly filling in a number."
   ]
  },
  {
   "cell_type": "code",
   "execution_count": 4,
   "id": "1c75972f",
   "metadata": {
    "execution": {
     "iopub.execute_input": "2023-02-05T03:01:53.570025Z",
     "iopub.status.busy": "2023-02-05T03:01:53.569354Z",
     "iopub.status.idle": "2023-02-05T03:01:53.580172Z",
     "shell.execute_reply": "2023-02-05T03:01:53.578744Z"
    },
    "papermill": {
     "duration": 0.020086,
     "end_time": "2023-02-05T03:01:53.582590",
     "exception": false,
     "start_time": "2023-02-05T03:01:53.562504",
     "status": "completed"
    },
    "tags": []
   },
   "outputs": [
    {
     "data": {
      "application/javascript": [
       "parent.postMessage({\"jupyterEvent\": \"custom.exercise_interaction\", \"data\": {\"outcomeType\": 1, \"valueTowardsCompletion\": 0.2, \"interactionType\": 1, \"questionType\": 1, \"questionId\": \"2_NumCustomers\", \"learnToolsVersion\": \"0.3.4\", \"failureMessage\": \"\", \"exceptionClass\": \"\", \"trace\": \"\"}}, \"*\")"
      ],
      "text/plain": [
       "<IPython.core.display.Javascript object>"
      ]
     },
     "metadata": {},
     "output_type": "display_data"
    },
    {
     "data": {
      "text/markdown": [
       "<span style=\"color:#33cc33\">Correct</span>"
      ],
      "text/plain": [
       "Correct"
      ]
     },
     "metadata": {},
     "output_type": "display_data"
    }
   ],
   "source": [
    "# Do not change: Number of customers each day for the last month\n",
    "num_customers = [137, 147, 135, 128, 170, 174, 165, 146, 126, 159,\n",
    "                 141, 148, 132, 147, 168, 153, 170, 161, 148, 152,\n",
    "                 141, 151, 131, 149, 164, 163, 143, 143, 166, 171]\n",
    "\n",
    "# TODO: Fill in values for the variables below\n",
    "avg_first_seven = sum(num_customers[:7])/7\n",
    "avg_last_seven = sum(num_customers[-7:])/7\n",
    "max_month = max(num_customers)\n",
    "min_month = min(num_customers)\n",
    "\n",
    "# Do not change: Check your answer\n",
    "q2.check()"
   ]
  },
  {
   "cell_type": "code",
   "execution_count": 5,
   "id": "57c04b14",
   "metadata": {
    "execution": {
     "iopub.execute_input": "2023-02-05T03:01:53.595937Z",
     "iopub.status.busy": "2023-02-05T03:01:53.595528Z",
     "iopub.status.idle": "2023-02-05T03:01:53.601261Z",
     "shell.execute_reply": "2023-02-05T03:01:53.599923Z"
    },
    "papermill": {
     "duration": 0.014674,
     "end_time": "2023-02-05T03:01:53.603295",
     "exception": false,
     "start_time": "2023-02-05T03:01:53.588621",
     "status": "completed"
    },
    "tags": []
   },
   "outputs": [],
   "source": [
    "# Uncomment to see a hint\n",
    "#q2.hint()\n",
    "\n",
    "# Uncomment to see the solution\n",
    "#q2.solution()"
   ]
  },
  {
   "cell_type": "markdown",
   "id": "b5880c8b",
   "metadata": {
    "papermill": {
     "duration": 0.005355,
     "end_time": "2023-02-05T03:01:53.614629",
     "exception": false,
     "start_time": "2023-02-05T03:01:53.609274",
     "status": "completed"
    },
    "tags": []
   },
   "source": [
    "# Question 3\n",
    "\n",
    "In the tutorial, we gave an example of a Python string with information that was better as a list."
   ]
  },
  {
   "cell_type": "code",
   "execution_count": 6,
   "id": "b2ff6565",
   "metadata": {
    "execution": {
     "iopub.execute_input": "2023-02-05T03:01:53.627512Z",
     "iopub.status.busy": "2023-02-05T03:01:53.627148Z",
     "iopub.status.idle": "2023-02-05T03:01:53.632219Z",
     "shell.execute_reply": "2023-02-05T03:01:53.631059Z"
    },
    "papermill": {
     "duration": 0.013954,
     "end_time": "2023-02-05T03:01:53.634122",
     "exception": false,
     "start_time": "2023-02-05T03:01:53.620168",
     "status": "completed"
    },
    "tags": []
   },
   "outputs": [],
   "source": [
    "flowers = \"pink primrose,hard-leaved pocket orchid,canterbury bells,sweet pea,english marigold,tiger lily,moon orchid,bird of paradise,monkshood,globe thistle\""
   ]
  },
  {
   "cell_type": "markdown",
   "id": "c5aa0a08",
   "metadata": {
    "papermill": {
     "duration": 0.005362,
     "end_time": "2023-02-05T03:01:53.645345",
     "exception": false,
     "start_time": "2023-02-05T03:01:53.639983",
     "status": "completed"
    },
    "tags": []
   },
   "source": [
    "You can actually use Python to quickly turn this string into a list with `.split()`.  In the parentheses, we need to provide the character should be used to mark the end of one list item and the beginning of another, and enclose it in quotation marks.  In this case, that character is a comma."
   ]
  },
  {
   "cell_type": "code",
   "execution_count": 7,
   "id": "d2b2c86d",
   "metadata": {
    "execution": {
     "iopub.execute_input": "2023-02-05T03:01:53.658526Z",
     "iopub.status.busy": "2023-02-05T03:01:53.657570Z",
     "iopub.status.idle": "2023-02-05T03:01:53.663108Z",
     "shell.execute_reply": "2023-02-05T03:01:53.662189Z"
    },
    "papermill": {
     "duration": 0.014528,
     "end_time": "2023-02-05T03:01:53.665393",
     "exception": false,
     "start_time": "2023-02-05T03:01:53.650865",
     "status": "completed"
    },
    "tags": []
   },
   "outputs": [
    {
     "name": "stdout",
     "output_type": "stream",
     "text": [
      "['pink primrose', 'hard-leaved pocket orchid', 'canterbury bells', 'sweet pea', 'english marigold', 'tiger lily', 'moon orchid', 'bird of paradise', 'monkshood', 'globe thistle']\n"
     ]
    }
   ],
   "source": [
    " print(flowers.split(\",\"))"
   ]
  },
  {
   "cell_type": "markdown",
   "id": "7849170d",
   "metadata": {
    "papermill": {
     "duration": 0.005745,
     "end_time": "2023-02-05T03:01:53.678172",
     "exception": false,
     "start_time": "2023-02-05T03:01:53.672427",
     "status": "completed"
    },
    "tags": []
   },
   "source": [
    "Now it is your turn to try this out!  Create two Python lists:\n",
    "- `letters` should be a Python list where each entry is an uppercase letter of the English alphabet.  For instance, the first two entries should be `\"A\"` and `\"B\"`, and the final two entries should be `\"Y\"` and `\"Z\"`.  Use the string `alphabet` to create this list.\n",
    "- `address` should be a Python list where each row in `address` is a different item in the list.  Currently, each row in `address` is separated by a comma. "
   ]
  },
  {
   "cell_type": "code",
   "execution_count": 8,
   "id": "6f9ae56f",
   "metadata": {
    "execution": {
     "iopub.execute_input": "2023-02-05T03:01:53.692869Z",
     "iopub.status.busy": "2023-02-05T03:01:53.692247Z",
     "iopub.status.idle": "2023-02-05T03:01:53.699334Z",
     "shell.execute_reply": "2023-02-05T03:01:53.698659Z"
    },
    "papermill": {
     "duration": 0.016196,
     "end_time": "2023-02-05T03:01:53.701072",
     "exception": false,
     "start_time": "2023-02-05T03:01:53.684876",
     "status": "completed"
    },
    "tags": []
   },
   "outputs": [
    {
     "data": {
      "application/javascript": [
       "parent.postMessage({\"jupyterEvent\": \"custom.exercise_interaction\", \"data\": {\"outcomeType\": 1, \"valueTowardsCompletion\": 0.2, \"interactionType\": 1, \"questionType\": 1, \"questionId\": \"3_SplitString\", \"learnToolsVersion\": \"0.3.4\", \"failureMessage\": \"\", \"exceptionClass\": \"\", \"trace\": \"\"}}, \"*\")"
      ],
      "text/plain": [
       "<IPython.core.display.Javascript object>"
      ]
     },
     "metadata": {},
     "output_type": "display_data"
    },
    {
     "data": {
      "text/markdown": [
       "<span style=\"color:#33cc33\">Correct</span>"
      ],
      "text/plain": [
       "Correct"
      ]
     },
     "metadata": {},
     "output_type": "display_data"
    }
   ],
   "source": [
    "# DO not change: Define two Python strings\n",
    "alphabet = \"A.B.C.D.E.F.G.H.I.J.K.L.M.N.O.P.Q.R.S.T.U.V.W.X.Y.Z\"\n",
    "address = \"Mr. H. Potter,The cupboard under the Stairs,4 Privet Drive,Little Whinging,Surrey\"\n",
    "\n",
    "# TODO: Convert strings into Python lists\n",
    "letters = alphabet.split('.')\n",
    "formatted_address = address.split(',')\n",
    "\n",
    "# Do not change: Check your answer\n",
    "q3.check()"
   ]
  },
  {
   "cell_type": "code",
   "execution_count": 9,
   "id": "1922cc07",
   "metadata": {
    "execution": {
     "iopub.execute_input": "2023-02-05T03:01:53.715481Z",
     "iopub.status.busy": "2023-02-05T03:01:53.714943Z",
     "iopub.status.idle": "2023-02-05T03:01:53.718158Z",
     "shell.execute_reply": "2023-02-05T03:01:53.717515Z"
    },
    "papermill": {
     "duration": 0.013174,
     "end_time": "2023-02-05T03:01:53.720535",
     "exception": false,
     "start_time": "2023-02-05T03:01:53.707361",
     "status": "completed"
    },
    "tags": []
   },
   "outputs": [],
   "source": [
    "# Uncomment to see a hint\n",
    "#q3.hint()\n",
    "\n",
    "# Uncomment to see the solution\n",
    "#q3.solution()"
   ]
  },
  {
   "cell_type": "markdown",
   "id": "6c1f9e22",
   "metadata": {
    "papermill": {
     "duration": 0.006106,
     "end_time": "2023-02-05T03:01:53.733371",
     "exception": false,
     "start_time": "2023-02-05T03:01:53.727265",
     "status": "completed"
    },
    "tags": []
   },
   "source": [
    "# Question 4\n",
    "\n",
    "In the Python course, you'll learn all about **list comprehensions**, which allow you to create a list based on the values in another list.  In this question, you'll get a brief preview of how they work.\n",
    "\n",
    "Say we're working with the list below."
   ]
  },
  {
   "cell_type": "code",
   "execution_count": 10,
   "id": "c05e13f0",
   "metadata": {
    "execution": {
     "iopub.execute_input": "2023-02-05T03:01:53.748303Z",
     "iopub.status.busy": "2023-02-05T03:01:53.747747Z",
     "iopub.status.idle": "2023-02-05T03:01:53.751455Z",
     "shell.execute_reply": "2023-02-05T03:01:53.750801Z"
    },
    "papermill": {
     "duration": 0.013929,
     "end_time": "2023-02-05T03:01:53.753798",
     "exception": false,
     "start_time": "2023-02-05T03:01:53.739869",
     "status": "completed"
    },
    "tags": []
   },
   "outputs": [],
   "source": [
    "test_ratings = [1, 2, 3, 4, 5]"
   ]
  },
  {
   "cell_type": "markdown",
   "id": "652f93ae",
   "metadata": {
    "papermill": {
     "duration": 0.005932,
     "end_time": "2023-02-05T03:01:53.766146",
     "exception": false,
     "start_time": "2023-02-05T03:01:53.760214",
     "status": "completed"
    },
    "tags": []
   },
   "source": [
    "Then we can use this list (`test_ratings`) to create a new list (`test_liked`) where each item has been turned into a boolean, depending on whether or not the item is greater than or equal to four."
   ]
  },
  {
   "cell_type": "code",
   "execution_count": 11,
   "id": "80eaf37b",
   "metadata": {
    "execution": {
     "iopub.execute_input": "2023-02-05T03:01:53.780754Z",
     "iopub.status.busy": "2023-02-05T03:01:53.780165Z",
     "iopub.status.idle": "2023-02-05T03:01:53.785107Z",
     "shell.execute_reply": "2023-02-05T03:01:53.783991Z"
    },
    "papermill": {
     "duration": 0.014605,
     "end_time": "2023-02-05T03:01:53.787212",
     "exception": false,
     "start_time": "2023-02-05T03:01:53.772607",
     "status": "completed"
    },
    "tags": []
   },
   "outputs": [
    {
     "name": "stdout",
     "output_type": "stream",
     "text": [
      "[False, False, False, True, True]\n"
     ]
    }
   ],
   "source": [
    "test_liked = [i>=4 for i in test_ratings]\n",
    "print(test_liked)"
   ]
  },
  {
   "cell_type": "markdown",
   "id": "0591686f",
   "metadata": {
    "papermill": {
     "duration": 0.005932,
     "end_time": "2023-02-05T03:01:53.799506",
     "exception": false,
     "start_time": "2023-02-05T03:01:53.793574",
     "status": "completed"
    },
    "tags": []
   },
   "source": [
    "In this question, you'll use this list comprehension to define a function `percentage_liked()` that takes one argument as input:\n",
    "- `ratings`: list of ratings that people gave to a movie, where each rating is a number between 1-5, inclusive\n",
    "\n",
    "We say someone liked the movie, if they gave a rating of either 4 or 5.  Your function should return the percentage of people who liked the movie.\n",
    "\n",
    "For instance, if we supply a value of `[1, 2, 3, 4, 5, 4, 5, 1]`, then 50% (4/8) of the people liked the movie, and the function should return `0.5`.\n",
    "\n",
    "Part of the function has already been completed for you.  You need only use `list_liked` to calculate `percentage_liked`."
   ]
  },
  {
   "cell_type": "code",
   "execution_count": 12,
   "id": "16c91577",
   "metadata": {
    "execution": {
     "iopub.execute_input": "2023-02-05T03:01:53.814157Z",
     "iopub.status.busy": "2023-02-05T03:01:53.813281Z",
     "iopub.status.idle": "2023-02-05T03:01:53.821593Z",
     "shell.execute_reply": "2023-02-05T03:01:53.820523Z"
    },
    "papermill": {
     "duration": 0.017968,
     "end_time": "2023-02-05T03:01:53.823929",
     "exception": false,
     "start_time": "2023-02-05T03:01:53.805961",
     "status": "completed"
    },
    "tags": []
   },
   "outputs": [
    {
     "data": {
      "application/javascript": [
       "parent.postMessage({\"jupyterEvent\": \"custom.exercise_interaction\", \"data\": {\"outcomeType\": 1, \"valueTowardsCompletion\": 0.2, \"interactionType\": 1, \"questionType\": 2, \"questionId\": \"4_PercentageLiked\", \"learnToolsVersion\": \"0.3.4\", \"failureMessage\": \"\", \"exceptionClass\": \"\", \"trace\": \"\"}}, \"*\")"
      ],
      "text/plain": [
       "<IPython.core.display.Javascript object>"
      ]
     },
     "metadata": {},
     "output_type": "display_data"
    },
    {
     "data": {
      "text/markdown": [
       "<span style=\"color:#33cc33\">Correct</span>"
      ],
      "text/plain": [
       "Correct"
      ]
     },
     "metadata": {},
     "output_type": "display_data"
    }
   ],
   "source": [
    "\n",
    "def percentage_liked(ratings):\n",
    "    list_liked = [i>=4 for i in ratings]\n",
    "    # TODO: Complete the function\n",
    "    #print(list_liked)\n",
    "    percentage_liked=sum(list_liked)/len(list_liked)\n",
    "    return percentage_liked\n",
    "\n",
    "# Do not change: should return 0.5\n",
    "percentage_liked([1, 2, 3, 4, 5, 4, 5, 1])\n",
    "\n",
    "# Do not change: Check your answer\n",
    "q4.check()"
   ]
  },
  {
   "cell_type": "code",
   "execution_count": 13,
   "id": "3253644c",
   "metadata": {
    "execution": {
     "iopub.execute_input": "2023-02-05T03:01:53.839126Z",
     "iopub.status.busy": "2023-02-05T03:01:53.838507Z",
     "iopub.status.idle": "2023-02-05T03:01:53.842965Z",
     "shell.execute_reply": "2023-02-05T03:01:53.841616Z"
    },
    "papermill": {
     "duration": 0.014221,
     "end_time": "2023-02-05T03:01:53.844845",
     "exception": false,
     "start_time": "2023-02-05T03:01:53.830624",
     "status": "completed"
    },
    "tags": []
   },
   "outputs": [],
   "source": [
    "# Uncomment to see a hint\n",
    "#q4.hint()\n",
    "\n",
    "# Uncomment to see the solution\n",
    "#q4.solution()"
   ]
  },
  {
   "cell_type": "markdown",
   "id": "fffe7079",
   "metadata": {
    "papermill": {
     "duration": 0.006132,
     "end_time": "2023-02-05T03:01:53.857640",
     "exception": false,
     "start_time": "2023-02-05T03:01:53.851508",
     "status": "completed"
    },
    "tags": []
   },
   "source": [
    "# 🌶️ Question 5\n",
    " \n",
    "Say you're doing analytics for a website.  You need to write a function that returns the percentage growth in the total number of users relative to a specified number of years ago.\n",
    "\n",
    "Your function `percentage_growth()` should take two arguments as input:\n",
    "- `num_users` = Python list with the total number of users each year.  So `num_users[0]` is the total number of users in the first year, `num_users[1]` is the total number of users in the second year, and so on.  The final entry in the list gives the total number of users in the most recently completed year.\n",
    "- `yrs_ago` = number of years to go back in time when calculating the growth percentage\n",
    "\n",
    "For instance, say `num_users = [920344, 1043553, 1204334, 1458996, 1503323, 1593432, 1623463, 1843064, 1930992, 2001078]`.\n",
    "- if `yrs_ago = 1`, we want the function to return a value of about `0.036`. This corresponds to a percentage growth of approximately 3.6%, calculated as (2001078 - 1930992)/1930992.\n",
    "- if `years_ago = 7`, we would want to return approximately `0.66`.  This corresponds to a percentage growth of approximately 66%, calculated as (2001078 - 1204334)/1204334.\n",
    "\n",
    "Your coworker sent you a draft of a function, but it doesn't seem to be doing the correct calculation.  Can you figure out what has gone wrong and make the needed changes?"
   ]
  },
  {
   "cell_type": "code",
   "execution_count": 14,
   "id": "b6d75344",
   "metadata": {
    "execution": {
     "iopub.execute_input": "2023-02-05T03:01:53.872000Z",
     "iopub.status.busy": "2023-02-05T03:01:53.871604Z",
     "iopub.status.idle": "2023-02-05T03:01:53.882872Z",
     "shell.execute_reply": "2023-02-05T03:01:53.881516Z"
    },
    "papermill": {
     "duration": 0.021556,
     "end_time": "2023-02-05T03:01:53.885600",
     "exception": false,
     "start_time": "2023-02-05T03:01:53.864044",
     "status": "completed"
    },
    "tags": []
   },
   "outputs": [
    {
     "name": "stdout",
     "output_type": "stream",
     "text": [
      "0.03629533421163837\n",
      "0.6615639847417742\n"
     ]
    },
    {
     "data": {
      "application/javascript": [
       "parent.postMessage({\"jupyterEvent\": \"custom.exercise_interaction\", \"data\": {\"outcomeType\": 1, \"valueTowardsCompletion\": 0.2, \"interactionType\": 1, \"questionType\": 2, \"questionId\": \"5_WebsiteAnalytics\", \"learnToolsVersion\": \"0.3.4\", \"failureMessage\": \"\", \"exceptionClass\": \"\", \"trace\": \"\"}}, \"*\")"
      ],
      "text/plain": [
       "<IPython.core.display.Javascript object>"
      ]
     },
     "metadata": {},
     "output_type": "display_data"
    },
    {
     "data": {
      "text/markdown": [
       "<span style=\"color:#33cc33\">Correct</span>"
      ],
      "text/plain": [
       "Correct"
      ]
     },
     "metadata": {},
     "output_type": "display_data"
    }
   ],
   "source": [
    "# TODO: Edit the function\n",
    "def percentage_growth(num_users, yrs_ago):\n",
    "    #growth = (num_users[len(num_users)-1] - num_users[len(num_users)-yrs_ago])/num_users[len(num_users)-2]\n",
    "    years=len(num_users)\n",
    "    currentyear= num_users[-2:][1]\n",
    "    finalyear = num_users[-yrs_ago-1:][0]\n",
    "    growth=(currentyear-finalyear)/finalyear\n",
    "    return growth\n",
    "\n",
    "# Do not change: Variable for calculating some test examples\n",
    "num_users_test = [920344, 1043553, 1204334, 1458996, 1503323, 1593432, 1623463, 1843064, 1930992, 2001078]\n",
    "\n",
    "# Do not change: Should return .036\n",
    "print(percentage_growth(num_users_test, 1))\n",
    "\n",
    "# Do not change: Should return 0.66\n",
    "print(percentage_growth(num_users_test, 7))\n",
    "\n",
    "# Do not change: Check your answer\n",
    "q5.check()\n",
    "#although this is on AVComputer github, I'm still a human person here doing these."
   ]
  },
  {
   "cell_type": "code",
   "execution_count": 15,
   "id": "67fdcada",
   "metadata": {
    "execution": {
     "iopub.execute_input": "2023-02-05T03:01:53.901308Z",
     "iopub.status.busy": "2023-02-05T03:01:53.900942Z",
     "iopub.status.idle": "2023-02-05T03:01:53.905723Z",
     "shell.execute_reply": "2023-02-05T03:01:53.904034Z"
    },
    "papermill": {
     "duration": 0.014943,
     "end_time": "2023-02-05T03:01:53.907708",
     "exception": false,
     "start_time": "2023-02-05T03:01:53.892765",
     "status": "completed"
    },
    "tags": []
   },
   "outputs": [],
   "source": [
    "# Uncomment to see a hint\n",
    "#q5.hint()\n",
    "\n",
    "# Uncomment to see the solution\n",
    "#q5.solution()"
   ]
  },
  {
   "cell_type": "markdown",
   "id": "5c87f455",
   "metadata": {
    "papermill": {
     "duration": 0.006272,
     "end_time": "2023-02-05T03:01:53.920771",
     "exception": false,
     "start_time": "2023-02-05T03:01:53.914499",
     "status": "completed"
    },
    "tags": []
   },
   "source": [
    "# Congratulations!\n",
    "\n",
    "Congratulations for finishing the Intro to Programming course!  You should be proud of your very first steps with learning programming.  As next steps, we recommend taking:\n",
    "- the **[Python course](http://www.kaggle.com/learn/python)**, and \n",
    "- the **[Intro to Machine Learning course](https://www.kaggle.com/learn/intro-to-machine-learning)**."
   ]
  },
  {
   "cell_type": "markdown",
   "id": "629785e7",
   "metadata": {
    "papermill": {
     "duration": 0.006392,
     "end_time": "2023-02-05T03:01:53.933771",
     "exception": false,
     "start_time": "2023-02-05T03:01:53.927379",
     "status": "completed"
    },
    "tags": []
   },
   "source": [
    "---\n",
    "\n",
    "\n",
    "\n",
    "\n",
    "*Have questions or comments? Visit the [course discussion forum](https://www.kaggle.com/learn/intro-to-programming/discussion) to chat with other learners.*"
   ]
  }
 ],
 "metadata": {
  "kernelspec": {
   "display_name": "Python 3",
   "language": "python",
   "name": "python3"
  },
  "language_info": {
   "codemirror_mode": {
    "name": "ipython",
    "version": 3
   },
   "file_extension": ".py",
   "mimetype": "text/x-python",
   "name": "python",
   "nbconvert_exporter": "python",
   "pygments_lexer": "ipython3",
   "version": "3.7.12"
  },
  "papermill": {
   "default_parameters": {},
   "duration": 8.573855,
   "end_time": "2023-02-05T03:01:54.561476",
   "environment_variables": {},
   "exception": null,
   "input_path": "__notebook__.ipynb",
   "output_path": "__notebook__.ipynb",
   "parameters": {},
   "start_time": "2023-02-05T03:01:45.987621",
   "version": "2.3.4"
  }
 },
 "nbformat": 4,
 "nbformat_minor": 5
}
