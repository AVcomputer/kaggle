{
 "cells": [
  {
   "cell_type": "markdown",
   "id": "44c499da",
   "metadata": {
    "papermill": {
     "duration": 0.010781,
     "end_time": "2023-02-06T01:51:42.536348",
     "exception": false,
     "start_time": "2023-02-06T01:51:42.525567",
     "status": "completed"
    },
    "tags": []
   },
   "source": [
    "**This notebook is an exercise in the [Python](https://www.kaggle.com/learn/python) course.  You can reference the tutorial at [this link](https://www.kaggle.com/colinmorris/booleans-and-conditionals).**\n",
    "\n",
    "---\n"
   ]
  },
  {
   "cell_type": "markdown",
   "id": "7f0d9815",
   "metadata": {
    "papermill": {
     "duration": 0.008947,
     "end_time": "2023-02-06T01:51:42.555036",
     "exception": false,
     "start_time": "2023-02-06T01:51:42.546089",
     "status": "completed"
    },
    "tags": []
   },
   "source": [
    "In this exercise, you'll put to work what you have learned about booleans and conditionals.\n",
    "\n",
    "To get started, **run the setup code below** before writing your own code (and if you leave this notebook and come back later, don't forget to run the setup code again)."
   ]
  },
  {
   "cell_type": "code",
   "execution_count": 1,
   "id": "fd0d5cb7",
   "metadata": {
    "execution": {
     "iopub.execute_input": "2023-02-06T01:51:42.576255Z",
     "iopub.status.busy": "2023-02-06T01:51:42.575247Z",
     "iopub.status.idle": "2023-02-06T01:51:42.631364Z",
     "shell.execute_reply": "2023-02-06T01:51:42.630427Z"
    },
    "papermill": {
     "duration": 0.070151,
     "end_time": "2023-02-06T01:51:42.634372",
     "exception": false,
     "start_time": "2023-02-06T01:51:42.564221",
     "status": "completed"
    },
    "tags": []
   },
   "outputs": [
    {
     "name": "stdout",
     "output_type": "stream",
     "text": [
      "Setup complete.\n"
     ]
    }
   ],
   "source": [
    "from learntools.core import binder; binder.bind(globals())\n",
    "from learntools.python.ex3 import *\n",
    "print('Setup complete.')"
   ]
  },
  {
   "cell_type": "markdown",
   "id": "5636cac2",
   "metadata": {
    "papermill": {
     "duration": 0.008818,
     "end_time": "2023-02-06T01:51:42.653441",
     "exception": false,
     "start_time": "2023-02-06T01:51:42.644623",
     "status": "completed"
    },
    "tags": []
   },
   "source": [
    "# 1.\n",
    "\n",
    "Many programming languages have [`sign`](https://en.wikipedia.org/wiki/Sign_function) available as a built-in function. Python doesn't, but we can define our own!\n",
    "\n",
    "In the cell below, define a function called `sign` which takes a numerical argument and returns -1 if it's negative, 1 if it's positive, and 0 if it's 0."
   ]
  },
  {
   "cell_type": "code",
   "execution_count": 2,
   "id": "843df1d1",
   "metadata": {
    "execution": {
     "iopub.execute_input": "2023-02-06T01:51:42.673949Z",
     "iopub.status.busy": "2023-02-06T01:51:42.673159Z",
     "iopub.status.idle": "2023-02-06T01:51:42.684770Z",
     "shell.execute_reply": "2023-02-06T01:51:42.683807Z"
    },
    "papermill": {
     "duration": 0.024478,
     "end_time": "2023-02-06T01:51:42.686954",
     "exception": false,
     "start_time": "2023-02-06T01:51:42.662476",
     "status": "completed"
    },
    "tags": []
   },
   "outputs": [
    {
     "data": {
      "application/javascript": [
       "parent.postMessage({\"jupyterEvent\": \"custom.exercise_interaction\", \"data\": {\"outcomeType\": 1, \"valueTowardsCompletion\": 0.2, \"interactionType\": 1, \"questionType\": 2, \"questionId\": \"1_SignFunctionProblem\", \"learnToolsVersion\": \"0.3.4\", \"failureMessage\": \"\", \"exceptionClass\": \"\", \"trace\": \"\"}}, \"*\")"
      ],
      "text/plain": [
       "<IPython.core.display.Javascript object>"
      ]
     },
     "metadata": {},
     "output_type": "display_data"
    },
    {
     "data": {
      "text/markdown": [
       "<span style=\"color:#33cc33\">Correct</span>"
      ],
      "text/plain": [
       "Correct"
      ]
     },
     "metadata": {},
     "output_type": "display_data"
    }
   ],
   "source": [
    "# Your code goes here. Define a function called 'sign'\n",
    "def sign(numerical):\n",
    "    if (numerical > 0):\n",
    "        return 1\n",
    "    elif (numerical < 0):\n",
    "        return -1\n",
    "    else:\n",
    "        return 0\n",
    "\n",
    "# Check your answer\n",
    "q1.check()"
   ]
  },
  {
   "cell_type": "code",
   "execution_count": 3,
   "id": "1670515e",
   "metadata": {
    "execution": {
     "iopub.execute_input": "2023-02-06T01:51:42.708862Z",
     "iopub.status.busy": "2023-02-06T01:51:42.708461Z",
     "iopub.status.idle": "2023-02-06T01:51:42.717743Z",
     "shell.execute_reply": "2023-02-06T01:51:42.716652Z"
    },
    "papermill": {
     "duration": 0.023578,
     "end_time": "2023-02-06T01:51:42.720123",
     "exception": false,
     "start_time": "2023-02-06T01:51:42.696545",
     "status": "completed"
    },
    "tags": []
   },
   "outputs": [
    {
     "data": {
      "application/javascript": [
       "parent.postMessage({\"jupyterEvent\": \"custom.exercise_interaction\", \"data\": {\"interactionType\": 3, \"questionType\": 2, \"questionId\": \"1_SignFunctionProblem\", \"learnToolsVersion\": \"0.3.4\", \"valueTowardsCompletion\": 0.0, \"failureMessage\": \"\", \"exceptionClass\": \"\", \"trace\": \"\", \"outcomeType\": 4}}, \"*\")"
      ],
      "text/plain": [
       "<IPython.core.display.Javascript object>"
      ]
     },
     "metadata": {},
     "output_type": "display_data"
    },
    {
     "data": {
      "text/markdown": [
       "<span style=\"color:#33cc99\">Solution:</span> \n",
       "```python\n",
       "def sign(x):\n",
       "    if x > 0:\n",
       "        return 1\n",
       "    elif x < 0:\n",
       "        return -1\n",
       "    else:\n",
       "        return 0\n",
       "```"
      ],
      "text/plain": [
       "Solution: \n",
       "```python\n",
       "def sign(x):\n",
       "    if x > 0:\n",
       "        return 1\n",
       "    elif x < 0:\n",
       "        return -1\n",
       "    else:\n",
       "        return 0\n",
       "```"
      ]
     },
     "metadata": {},
     "output_type": "display_data"
    }
   ],
   "source": [
    "q1.solution()"
   ]
  },
  {
   "cell_type": "markdown",
   "id": "515eb799",
   "metadata": {
    "papermill": {
     "duration": 0.010093,
     "end_time": "2023-02-06T01:51:42.741347",
     "exception": false,
     "start_time": "2023-02-06T01:51:42.731254",
     "status": "completed"
    },
    "tags": []
   },
   "source": [
    "# 2.\n",
    "\n",
    "We've decided to add \"logging\" to our `to_smash` function from the previous exercise."
   ]
  },
  {
   "cell_type": "code",
   "execution_count": 4,
   "id": "63ac5afb",
   "metadata": {
    "execution": {
     "iopub.execute_input": "2023-02-06T01:51:42.763310Z",
     "iopub.status.busy": "2023-02-06T01:51:42.762092Z",
     "iopub.status.idle": "2023-02-06T01:51:42.771725Z",
     "shell.execute_reply": "2023-02-06T01:51:42.770365Z"
    },
    "papermill": {
     "duration": 0.023628,
     "end_time": "2023-02-06T01:51:42.774676",
     "exception": false,
     "start_time": "2023-02-06T01:51:42.751048",
     "status": "completed"
    },
    "tags": []
   },
   "outputs": [
    {
     "name": "stdout",
     "output_type": "stream",
     "text": [
      "Splitting 91 candies\n"
     ]
    },
    {
     "data": {
      "text/plain": [
       "1"
      ]
     },
     "execution_count": 4,
     "metadata": {},
     "output_type": "execute_result"
    }
   ],
   "source": [
    "def to_smash(total_candies):\n",
    "    \"\"\"Return the number of leftover candies that must be smashed after distributing\n",
    "    the given number of candies evenly between 3 friends.\n",
    "    \n",
    "    >>> to_smash(91)\n",
    "    1\n",
    "    \"\"\"\n",
    "    print(\"Splitting\", total_candies, \"candies\")\n",
    "    return total_candies % 3\n",
    "\n",
    "to_smash(91)"
   ]
  },
  {
   "cell_type": "markdown",
   "id": "16b0359d",
   "metadata": {
    "papermill": {
     "duration": 0.009488,
     "end_time": "2023-02-06T01:51:42.794790",
     "exception": false,
     "start_time": "2023-02-06T01:51:42.785302",
     "status": "completed"
    },
    "tags": []
   },
   "source": [
    "What happens if we call it with `total_candies = 1`?"
   ]
  },
  {
   "cell_type": "code",
   "execution_count": 5,
   "id": "20de3a6d",
   "metadata": {
    "execution": {
     "iopub.execute_input": "2023-02-06T01:51:42.816305Z",
     "iopub.status.busy": "2023-02-06T01:51:42.815889Z",
     "iopub.status.idle": "2023-02-06T01:51:42.823936Z",
     "shell.execute_reply": "2023-02-06T01:51:42.822376Z"
    },
    "papermill": {
     "duration": 0.021934,
     "end_time": "2023-02-06T01:51:42.826437",
     "exception": false,
     "start_time": "2023-02-06T01:51:42.804503",
     "status": "completed"
    },
    "tags": []
   },
   "outputs": [
    {
     "name": "stdout",
     "output_type": "stream",
     "text": [
      "Splitting 1 candies\n"
     ]
    },
    {
     "data": {
      "text/plain": [
       "1"
      ]
     },
     "execution_count": 5,
     "metadata": {},
     "output_type": "execute_result"
    }
   ],
   "source": [
    "to_smash(1)"
   ]
  },
  {
   "cell_type": "markdown",
   "id": "5129bd32",
   "metadata": {
    "papermill": {
     "duration": 0.009567,
     "end_time": "2023-02-06T01:51:42.846484",
     "exception": false,
     "start_time": "2023-02-06T01:51:42.836917",
     "status": "completed"
    },
    "tags": []
   },
   "source": [
    "That isn't great grammar!\n",
    "\n",
    "Modify the definition in the cell below to correct the grammar of our print statement. (If there's only one candy, we should use the singular \"candy\" instead of the plural \"candies\")"
   ]
  },
  {
   "cell_type": "code",
   "execution_count": 6,
   "id": "9c01efbe",
   "metadata": {
    "execution": {
     "iopub.execute_input": "2023-02-06T01:51:42.870444Z",
     "iopub.status.busy": "2023-02-06T01:51:42.869709Z",
     "iopub.status.idle": "2023-02-06T01:51:42.878762Z",
     "shell.execute_reply": "2023-02-06T01:51:42.877463Z"
    },
    "papermill": {
     "duration": 0.023343,
     "end_time": "2023-02-06T01:51:42.881359",
     "exception": false,
     "start_time": "2023-02-06T01:51:42.858016",
     "status": "completed"
    },
    "tags": []
   },
   "outputs": [
    {
     "name": "stdout",
     "output_type": "stream",
     "text": [
      "Splitting 91 candies\n",
      "Splitting 1 candy\n"
     ]
    },
    {
     "data": {
      "text/plain": [
       "1"
      ]
     },
     "execution_count": 6,
     "metadata": {},
     "output_type": "execute_result"
    }
   ],
   "source": [
    "def to_smash(total_candies):\n",
    "    \"\"\"Return the number of leftover candies that must be smashed after distributing\n",
    "    the given number of candies evenly between 3 friends.\n",
    "    \n",
    "    >>> to_smash(91)\n",
    "    1\n",
    "    \"\"\"\n",
    "    if total_candies==1:\n",
    "        smashstr=\"candy\"\n",
    "    else:\n",
    "        smashstr=\"candies\"\n",
    "    print(\"Splitting\", total_candies, smashstr )\n",
    "    return total_candies % 3\n",
    "\n",
    "to_smash(91)\n",
    "to_smash(1)"
   ]
  },
  {
   "cell_type": "markdown",
   "id": "6cbb7a7a",
   "metadata": {
    "papermill": {
     "duration": 0.009749,
     "end_time": "2023-02-06T01:51:42.901554",
     "exception": false,
     "start_time": "2023-02-06T01:51:42.891805",
     "status": "completed"
    },
    "tags": []
   },
   "source": [
    "To get credit for completing this problem, and to see the official answer, run the code cell below."
   ]
  },
  {
   "cell_type": "code",
   "execution_count": 7,
   "id": "a47cc3b2",
   "metadata": {
    "execution": {
     "iopub.execute_input": "2023-02-06T01:51:42.924248Z",
     "iopub.status.busy": "2023-02-06T01:51:42.923438Z",
     "iopub.status.idle": "2023-02-06T01:51:42.932776Z",
     "shell.execute_reply": "2023-02-06T01:51:42.931795Z"
    },
    "papermill": {
     "duration": 0.023398,
     "end_time": "2023-02-06T01:51:42.935064",
     "exception": false,
     "start_time": "2023-02-06T01:51:42.911666",
     "status": "completed"
    },
    "tags": []
   },
   "outputs": [
    {
     "data": {
      "application/javascript": [
       "parent.postMessage({\"jupyterEvent\": \"custom.exercise_interaction\", \"data\": {\"interactionType\": 3, \"questionType\": 4, \"questionId\": \"2_PluralizationProblem\", \"learnToolsVersion\": \"0.3.4\", \"valueTowardsCompletion\": 0.0, \"failureMessage\": \"\", \"exceptionClass\": \"\", \"trace\": \"\", \"outcomeType\": 4}}, \"*\")"
      ],
      "text/plain": [
       "<IPython.core.display.Javascript object>"
      ]
     },
     "metadata": {},
     "output_type": "display_data"
    },
    {
     "data": {
      "text/markdown": [
       "<span style=\"color:#33cc99\">Solution:</span> A straightforward (and totally fine) solution is to replace the original `print` call with:\n",
       "\n",
       "```python\n",
       "if total_candies == 1:\n",
       "    print(\"Splitting 1 candy\")\n",
       "else:\n",
       "    print(\"Splitting\", total_candies, \"candies\")\n",
       "```\n",
       "\n",
       "Here's a slightly more succinct solution using a conditional expression:\n",
       "\n",
       "```python\n",
       "print(\"Splitting\", total_candies, \"candy\" if total_candies == 1 else \"candies\")\n",
       "```"
      ],
      "text/plain": [
       "Solution: A straightforward (and totally fine) solution is to replace the original `print` call with:\n",
       "\n",
       "```python\n",
       "if total_candies == 1:\n",
       "    print(\"Splitting 1 candy\")\n",
       "else:\n",
       "    print(\"Splitting\", total_candies, \"candies\")\n",
       "```\n",
       "\n",
       "Here's a slightly more succinct solution using a conditional expression:\n",
       "\n",
       "```python\n",
       "print(\"Splitting\", total_candies, \"candy\" if total_candies == 1 else \"candies\")\n",
       "```"
      ]
     },
     "metadata": {},
     "output_type": "display_data"
    }
   ],
   "source": [
    "# Check your answer (Run this code cell to receive credit!)\n",
    "q2.solution()"
   ]
  },
  {
   "cell_type": "markdown",
   "id": "61e54579",
   "metadata": {
    "papermill": {
     "duration": 0.010264,
     "end_time": "2023-02-06T01:51:42.955994",
     "exception": false,
     "start_time": "2023-02-06T01:51:42.945730",
     "status": "completed"
    },
    "tags": []
   },
   "source": [
    "# 3. <span title=\"A bit spicy\" style=\"color: darkgreen \">🌶️</span>\n",
    "\n",
    "In the tutorial, we talked about deciding whether we're prepared for the weather. I said that I'm safe from today's weather if...\n",
    "- I have an umbrella...\n",
    "- or if the rain isn't too heavy and I have a hood...\n",
    "- otherwise, I'm still fine unless it's raining *and* it's a workday\n",
    "\n",
    "The function below uses our first attempt at turning this logic into a Python expression. I claimed that there was a bug in that code. Can you find it?\n",
    "\n",
    "To prove that `prepared_for_weather` is buggy, come up with a set of inputs where either:\n",
    "- the function returns `False` (but should have returned `True`), or\n",
    "- the function returned `True` (but should have returned `False`).\n",
    "\n",
    "To get credit for completing this question, your code should return a <font color='#33cc33'>Correct</font> result."
   ]
  },
  {
   "cell_type": "code",
   "execution_count": 8,
   "id": "499fb68e",
   "metadata": {
    "execution": {
     "iopub.execute_input": "2023-02-06T01:51:42.982567Z",
     "iopub.status.busy": "2023-02-06T01:51:42.981593Z",
     "iopub.status.idle": "2023-02-06T01:51:42.998148Z",
     "shell.execute_reply": "2023-02-06T01:51:42.996809Z"
    },
    "papermill": {
     "duration": 0.033902,
     "end_time": "2023-02-06T01:51:43.001384",
     "exception": false,
     "start_time": "2023-02-06T01:51:42.967482",
     "status": "completed"
    },
    "tags": []
   },
   "outputs": [
    {
     "name": "stdout",
     "output_type": "stream",
     "text": [
      "False\n"
     ]
    },
    {
     "data": {
      "application/javascript": [
       "parent.postMessage({\"jupyterEvent\": \"custom.exercise_interaction\", \"data\": {\"outcomeType\": 1, \"valueTowardsCompletion\": 0.2, \"interactionType\": 1, \"questionType\": 1, \"questionId\": \"3_WeatherDebug\", \"learnToolsVersion\": \"0.3.4\", \"failureMessage\": \"\", \"exceptionClass\": \"\", \"trace\": \"\"}}, \"*\")"
      ],
      "text/plain": [
       "<IPython.core.display.Javascript object>"
      ]
     },
     "metadata": {},
     "output_type": "display_data"
    },
    {
     "data": {
      "text/markdown": [
       "<span style=\"color:#33cc33\">Correct:</span> \n",
       "\n",
       "One example of a failing test case is:\n",
       "\n",
       "```python\n",
       "have_umbrella = False\n",
       "rain_level = 0.0\n",
       "have_hood = False\n",
       "is_workday = False\n",
       "```\n",
       "\n",
       "Clearly we're prepared for the weather in this case. It's not raining. Not only that, it's not a workday, so we don't even need to leave the house! But our function will return False on these inputs.\n",
       "\n",
       "The key problem is that Python implictly parenthesizes the last part as:\n",
       "\n",
       "```python\n",
       "(not (rain_level > 0)) and is_workday\n",
       "```\n",
       "\n",
       "Whereas what we were trying to express would look more like:\n",
       "\n",
       "```python\n",
       "not (rain_level > 0 and is_workday)\n",
       "```\n"
      ],
      "text/plain": [
       "Correct: \n",
       "\n",
       "One example of a failing test case is:\n",
       "\n",
       "```python\n",
       "have_umbrella = False\n",
       "rain_level = 0.0\n",
       "have_hood = False\n",
       "is_workday = False\n",
       "```\n",
       "\n",
       "Clearly we're prepared for the weather in this case. It's not raining. Not only that, it's not a workday, so we don't even need to leave the house! But our function will return False on these inputs.\n",
       "\n",
       "The key problem is that Python implictly parenthesizes the last part as:\n",
       "\n",
       "```python\n",
       "(not (rain_level > 0)) and is_workday\n",
       "```\n",
       "\n",
       "Whereas what we were trying to express would look more like:\n",
       "\n",
       "```python\n",
       "not (rain_level > 0 and is_workday)\n",
       "```"
      ]
     },
     "metadata": {},
     "output_type": "display_data"
    }
   ],
   "source": [
    "def prepared_for_weather(have_umbrella, rain_level, have_hood, is_workday):\n",
    "    # Don't change this code. Our goal is just to find the bug, not fix it!\n",
    "    return have_umbrella or rain_level < 5 and have_hood or not rain_level > 0 and is_workday\n",
    "\n",
    "# Change the values of these inputs so they represent a case where prepared_for_weather\n",
    "# returns the wrong answer.\n",
    "have_umbrella = False\n",
    "rain_level = -5.0\n",
    "have_hood = False\n",
    "is_workday = False\n",
    "\n",
    "# Check what the function returns given the current values of the variables above\n",
    "actual = prepared_for_weather(have_umbrella, rain_level, have_hood, is_workday)\n",
    "print(actual)\n",
    "\n",
    "# Check your answer\n",
    "q3.check()"
   ]
  },
  {
   "cell_type": "code",
   "execution_count": 9,
   "id": "2c467050",
   "metadata": {
    "execution": {
     "iopub.execute_input": "2023-02-06T01:51:43.031842Z",
     "iopub.status.busy": "2023-02-06T01:51:43.031178Z",
     "iopub.status.idle": "2023-02-06T01:51:43.042534Z",
     "shell.execute_reply": "2023-02-06T01:51:43.041382Z"
    },
    "papermill": {
     "duration": 0.028786,
     "end_time": "2023-02-06T01:51:43.044637",
     "exception": false,
     "start_time": "2023-02-06T01:51:43.015851",
     "status": "completed"
    },
    "tags": []
   },
   "outputs": [
    {
     "data": {
      "application/javascript": [
       "parent.postMessage({\"jupyterEvent\": \"custom.exercise_interaction\", \"data\": {\"interactionType\": 2, \"questionType\": 1, \"questionId\": \"3_WeatherDebug\", \"learnToolsVersion\": \"0.3.4\", \"valueTowardsCompletion\": 0.0, \"failureMessage\": \"\", \"exceptionClass\": \"\", \"trace\": \"\", \"outcomeType\": 4}}, \"*\")"
      ],
      "text/plain": [
       "<IPython.core.display.Javascript object>"
      ]
     },
     "metadata": {},
     "output_type": "display_data"
    },
    {
     "data": {
      "text/markdown": [
       "<span style=\"color:#3366cc\">Hint:</span> Take a look at how we fixed our original expression in the main lesson. We added parentheses around certain subexpressions. The bug in this code is caused by Python evaluating certain operations in the \"wrong\" order."
      ],
      "text/plain": [
       "Hint: Take a look at how we fixed our original expression in the main lesson. We added parentheses around certain subexpressions. The bug in this code is caused by Python evaluating certain operations in the \"wrong\" order."
      ]
     },
     "metadata": {},
     "output_type": "display_data"
    },
    {
     "data": {
      "application/javascript": [
       "parent.postMessage({\"jupyterEvent\": \"custom.exercise_interaction\", \"data\": {\"interactionType\": 3, \"questionType\": 1, \"questionId\": \"3_WeatherDebug\", \"learnToolsVersion\": \"0.3.4\", \"valueTowardsCompletion\": 0.0, \"failureMessage\": \"\", \"exceptionClass\": \"\", \"trace\": \"\", \"outcomeType\": 4}}, \"*\")"
      ],
      "text/plain": [
       "<IPython.core.display.Javascript object>"
      ]
     },
     "metadata": {},
     "output_type": "display_data"
    },
    {
     "data": {
      "text/markdown": [
       "<span style=\"color:#33cc99\">Solution:</span> One example of a failing test case is:\n",
       "\n",
       "```python\n",
       "have_umbrella = False\n",
       "rain_level = 0.0\n",
       "have_hood = False\n",
       "is_workday = False\n",
       "```\n",
       "\n",
       "Clearly we're prepared for the weather in this case. It's not raining. Not only that, it's not a workday, so we don't even need to leave the house! But our function will return False on these inputs.\n",
       "\n",
       "The key problem is that Python implictly parenthesizes the last part as:\n",
       "\n",
       "```python\n",
       "(not (rain_level > 0)) and is_workday\n",
       "```\n",
       "\n",
       "Whereas what we were trying to express would look more like:\n",
       "\n",
       "```python\n",
       "not (rain_level > 0 and is_workday)\n",
       "```\n"
      ],
      "text/plain": [
       "Solution: One example of a failing test case is:\n",
       "\n",
       "```python\n",
       "have_umbrella = False\n",
       "rain_level = 0.0\n",
       "have_hood = False\n",
       "is_workday = False\n",
       "```\n",
       "\n",
       "Clearly we're prepared for the weather in this case. It's not raining. Not only that, it's not a workday, so we don't even need to leave the house! But our function will return False on these inputs.\n",
       "\n",
       "The key problem is that Python implictly parenthesizes the last part as:\n",
       "\n",
       "```python\n",
       "(not (rain_level > 0)) and is_workday\n",
       "```\n",
       "\n",
       "Whereas what we were trying to express would look more like:\n",
       "\n",
       "```python\n",
       "not (rain_level > 0 and is_workday)\n",
       "```"
      ]
     },
     "metadata": {},
     "output_type": "display_data"
    }
   ],
   "source": [
    "q3.hint()\n",
    "q3.solution()"
   ]
  },
  {
   "cell_type": "code",
   "execution_count": 10,
   "id": "5d32cbc8",
   "metadata": {
    "execution": {
     "iopub.execute_input": "2023-02-06T01:51:43.069069Z",
     "iopub.status.busy": "2023-02-06T01:51:43.068657Z",
     "iopub.status.idle": "2023-02-06T01:51:43.072966Z",
     "shell.execute_reply": "2023-02-06T01:51:43.072095Z"
    },
    "papermill": {
     "duration": 0.018792,
     "end_time": "2023-02-06T01:51:43.075042",
     "exception": false,
     "start_time": "2023-02-06T01:51:43.056250",
     "status": "completed"
    },
    "tags": []
   },
   "outputs": [],
   "source": [
    "#This was harder than expected and we should always use the parens"
   ]
  },
  {
   "cell_type": "markdown",
   "id": "be3864cd",
   "metadata": {
    "papermill": {
     "duration": 0.010924,
     "end_time": "2023-02-06T01:51:43.097251",
     "exception": false,
     "start_time": "2023-02-06T01:51:43.086327",
     "status": "completed"
    },
    "tags": []
   },
   "source": [
    "# 4.\n",
    "\n",
    "The function `is_negative` below is implemented correctly - it returns True if the given number is negative and False otherwise.\n",
    "\n",
    "However, it's more verbose than it needs to be. We can actually reduce the number of lines of code in this function by *75%* while keeping the same behaviour. \n",
    "\n",
    "See if you can come up with an equivalent body that uses just **one line** of code, and put it in the function `concise_is_negative`. (HINT: you don't even need Python's ternary syntax)"
   ]
  },
  {
   "cell_type": "code",
   "execution_count": 11,
   "id": "653a2d5c",
   "metadata": {
    "execution": {
     "iopub.execute_input": "2023-02-06T01:51:43.121476Z",
     "iopub.status.busy": "2023-02-06T01:51:43.121065Z",
     "iopub.status.idle": "2023-02-06T01:51:43.130653Z",
     "shell.execute_reply": "2023-02-06T01:51:43.129411Z"
    },
    "papermill": {
     "duration": 0.024517,
     "end_time": "2023-02-06T01:51:43.133055",
     "exception": false,
     "start_time": "2023-02-06T01:51:43.108538",
     "status": "completed"
    },
    "tags": []
   },
   "outputs": [
    {
     "data": {
      "application/javascript": [
       "parent.postMessage({\"jupyterEvent\": \"custom.exercise_interaction\", \"data\": {\"outcomeType\": 1, \"valueTowardsCompletion\": 0.2, \"interactionType\": 1, \"questionType\": 2, \"questionId\": \"4_ConciseIsNegative\", \"learnToolsVersion\": \"0.3.4\", \"failureMessage\": \"\", \"exceptionClass\": \"\", \"trace\": \"\"}}, \"*\")"
      ],
      "text/plain": [
       "<IPython.core.display.Javascript object>"
      ]
     },
     "metadata": {},
     "output_type": "display_data"
    },
    {
     "data": {
      "text/markdown": [
       "<span style=\"color:#33cc33\">Correct</span>"
      ],
      "text/plain": [
       "Correct"
      ]
     },
     "metadata": {},
     "output_type": "display_data"
    }
   ],
   "source": [
    "def is_negative(number):\n",
    "    if number < 0:\n",
    "        return True\n",
    "    else:\n",
    "        return False\n",
    "\n",
    "def concise_is_negative(number):\n",
    "    return number < 0\n",
    "\n",
    "# Check your answer\n",
    "q4.check()"
   ]
  },
  {
   "cell_type": "code",
   "execution_count": 12,
   "id": "c1d5df43",
   "metadata": {
    "execution": {
     "iopub.execute_input": "2023-02-06T01:51:43.157714Z",
     "iopub.status.busy": "2023-02-06T01:51:43.157321Z",
     "iopub.status.idle": "2023-02-06T01:51:43.161499Z",
     "shell.execute_reply": "2023-02-06T01:51:43.160433Z"
    },
    "papermill": {
     "duration": 0.019351,
     "end_time": "2023-02-06T01:51:43.163867",
     "exception": false,
     "start_time": "2023-02-06T01:51:43.144516",
     "status": "completed"
    },
    "tags": []
   },
   "outputs": [],
   "source": [
    "#q4.hint()\n",
    "#q4.solution()"
   ]
  },
  {
   "cell_type": "markdown",
   "id": "332ab975",
   "metadata": {
    "papermill": {
     "duration": 0.011179,
     "end_time": "2023-02-06T01:51:43.186883",
     "exception": false,
     "start_time": "2023-02-06T01:51:43.175704",
     "status": "completed"
    },
    "tags": []
   },
   "source": [
    "# 5a.\n",
    "\n",
    "The boolean variables `ketchup`, `mustard` and `onion` represent whether a customer wants a particular topping on their hot dog. We want to implement a number of boolean functions that correspond to some yes-or-no questions about the customer's order. For example:"
   ]
  },
  {
   "cell_type": "code",
   "execution_count": 13,
   "id": "2ff11b4d",
   "metadata": {
    "execution": {
     "iopub.execute_input": "2023-02-06T01:51:43.211617Z",
     "iopub.status.busy": "2023-02-06T01:51:43.211190Z",
     "iopub.status.idle": "2023-02-06T01:51:43.215678Z",
     "shell.execute_reply": "2023-02-06T01:51:43.214656Z"
    },
    "papermill": {
     "duration": 0.019427,
     "end_time": "2023-02-06T01:51:43.217770",
     "exception": false,
     "start_time": "2023-02-06T01:51:43.198343",
     "status": "completed"
    },
    "tags": []
   },
   "outputs": [],
   "source": [
    "def onionless(ketchup, mustard, onion):\n",
    "    \"\"\"Return whether the customer doesn't want onions.\n",
    "    \"\"\"\n",
    "    return not onion"
   ]
  },
  {
   "cell_type": "code",
   "execution_count": 14,
   "id": "62edf354",
   "metadata": {
    "execution": {
     "iopub.execute_input": "2023-02-06T01:51:43.243083Z",
     "iopub.status.busy": "2023-02-06T01:51:43.242650Z",
     "iopub.status.idle": "2023-02-06T01:51:43.251388Z",
     "shell.execute_reply": "2023-02-06T01:51:43.250398Z"
    },
    "papermill": {
     "duration": 0.024047,
     "end_time": "2023-02-06T01:51:43.253526",
     "exception": false,
     "start_time": "2023-02-06T01:51:43.229479",
     "status": "completed"
    },
    "tags": []
   },
   "outputs": [
    {
     "data": {
      "application/javascript": [
       "parent.postMessage({\"jupyterEvent\": \"custom.exercise_interaction\", \"data\": {\"outcomeType\": 1, \"valueTowardsCompletion\": 0.2, \"interactionType\": 1, \"questionType\": 2, \"questionId\": \"5.1_AllToppings\", \"learnToolsVersion\": \"0.3.4\", \"failureMessage\": \"\", \"exceptionClass\": \"\", \"trace\": \"\"}}, \"*\")"
      ],
      "text/plain": [
       "<IPython.core.display.Javascript object>"
      ]
     },
     "metadata": {},
     "output_type": "display_data"
    },
    {
     "data": {
      "text/markdown": [
       "<span style=\"color:#33cc33\">Correct</span>"
      ],
      "text/plain": [
       "Correct"
      ]
     },
     "metadata": {},
     "output_type": "display_data"
    }
   ],
   "source": [
    "def wants_all_toppings(ketchup, mustard, onion):\n",
    "    \"\"\"Return whether the customer wants \"the works\" (all 3 toppings)\n",
    "    \"\"\"\n",
    "    return (ketchup and mustard and onion)\n",
    "\n",
    "# Check your answer\n",
    "q5.a.check()"
   ]
  },
  {
   "cell_type": "code",
   "execution_count": 15,
   "id": "2f26e53e",
   "metadata": {
    "execution": {
     "iopub.execute_input": "2023-02-06T01:51:43.279278Z",
     "iopub.status.busy": "2023-02-06T01:51:43.278858Z",
     "iopub.status.idle": "2023-02-06T01:51:43.283542Z",
     "shell.execute_reply": "2023-02-06T01:51:43.282408Z"
    },
    "papermill": {
     "duration": 0.020046,
     "end_time": "2023-02-06T01:51:43.285756",
     "exception": false,
     "start_time": "2023-02-06T01:51:43.265710",
     "status": "completed"
    },
    "tags": []
   },
   "outputs": [],
   "source": [
    "#q5.a.hint()\n",
    "#q5.a.solution()"
   ]
  },
  {
   "cell_type": "markdown",
   "id": "228a99e5",
   "metadata": {
    "papermill": {
     "duration": 0.01181,
     "end_time": "2023-02-06T01:51:43.310244",
     "exception": false,
     "start_time": "2023-02-06T01:51:43.298434",
     "status": "completed"
    },
    "tags": []
   },
   "source": [
    "# 5b.\n",
    "\n",
    "For the next function, fill in the body to match the English description in the docstring. "
   ]
  },
  {
   "cell_type": "code",
   "execution_count": 16,
   "id": "1245baf6",
   "metadata": {
    "execution": {
     "iopub.execute_input": "2023-02-06T01:51:43.336574Z",
     "iopub.status.busy": "2023-02-06T01:51:43.335862Z",
     "iopub.status.idle": "2023-02-06T01:51:43.344241Z",
     "shell.execute_reply": "2023-02-06T01:51:43.343250Z"
    },
    "papermill": {
     "duration": 0.024725,
     "end_time": "2023-02-06T01:51:43.346928",
     "exception": false,
     "start_time": "2023-02-06T01:51:43.322203",
     "status": "completed"
    },
    "tags": []
   },
   "outputs": [
    {
     "data": {
      "application/javascript": [
       "parent.postMessage({\"jupyterEvent\": \"custom.exercise_interaction\", \"data\": {\"outcomeType\": 1, \"valueTowardsCompletion\": 0.2, \"interactionType\": 1, \"questionType\": 2, \"questionId\": \"5.2_PlainDog\", \"learnToolsVersion\": \"0.3.4\", \"failureMessage\": \"\", \"exceptionClass\": \"\", \"trace\": \"\"}}, \"*\")"
      ],
      "text/plain": [
       "<IPython.core.display.Javascript object>"
      ]
     },
     "metadata": {},
     "output_type": "display_data"
    },
    {
     "data": {
      "text/markdown": [
       "<span style=\"color:#33cc33\">Correct:</span> \n",
       "\n",
       "One solution looks like:\n",
       "```python\n",
       "return not ketchup and not mustard and not onion\n",
       "```\n",
       "\n",
       "We can also [\"factor out\" the nots](https://en.wikipedia.org/wiki/De_Morgan%27s_laws) to get:\n",
       "\n",
       "```python\n",
       "return not (ketchup or mustard or onion)\n",
       "```"
      ],
      "text/plain": [
       "Correct: \n",
       "\n",
       "One solution looks like:\n",
       "```python\n",
       "return not ketchup and not mustard and not onion\n",
       "```\n",
       "\n",
       "We can also [\"factor out\" the nots](https://en.wikipedia.org/wiki/De_Morgan%27s_laws) to get:\n",
       "\n",
       "```python\n",
       "return not (ketchup or mustard or onion)\n",
       "```"
      ]
     },
     "metadata": {},
     "output_type": "display_data"
    }
   ],
   "source": [
    "def wants_plain_hotdog(ketchup, mustard, onion):\n",
    "    \"\"\"Return whether the customer wants a plain hot dog with no toppings.\n",
    "    \"\"\"\n",
    "    return not (ketchup or mustard or onion)\n",
    "\n",
    "# Check your answer\n",
    "q5.b.check()"
   ]
  },
  {
   "cell_type": "code",
   "execution_count": 17,
   "id": "56729c04",
   "metadata": {
    "execution": {
     "iopub.execute_input": "2023-02-06T01:51:43.374639Z",
     "iopub.status.busy": "2023-02-06T01:51:43.373874Z",
     "iopub.status.idle": "2023-02-06T01:51:43.378412Z",
     "shell.execute_reply": "2023-02-06T01:51:43.377554Z"
    },
    "papermill": {
     "duration": 0.021244,
     "end_time": "2023-02-06T01:51:43.380613",
     "exception": false,
     "start_time": "2023-02-06T01:51:43.359369",
     "status": "completed"
    },
    "tags": []
   },
   "outputs": [],
   "source": [
    "#q5.b.hint()\n",
    "#q5.b.solution()"
   ]
  },
  {
   "cell_type": "markdown",
   "id": "9ac85807",
   "metadata": {
    "papermill": {
     "duration": 0.011998,
     "end_time": "2023-02-06T01:51:43.405307",
     "exception": false,
     "start_time": "2023-02-06T01:51:43.393309",
     "status": "completed"
    },
    "tags": []
   },
   "source": [
    "# 5c.\n",
    "\n",
    "You know what to do: for the next function, fill in the body to match the English description in the docstring."
   ]
  },
  {
   "cell_type": "code",
   "execution_count": 18,
   "id": "d2049947",
   "metadata": {
    "execution": {
     "iopub.execute_input": "2023-02-06T01:51:43.432241Z",
     "iopub.status.busy": "2023-02-06T01:51:43.431497Z",
     "iopub.status.idle": "2023-02-06T01:51:43.441204Z",
     "shell.execute_reply": "2023-02-06T01:51:43.440291Z"
    },
    "papermill": {
     "duration": 0.025783,
     "end_time": "2023-02-06T01:51:43.443370",
     "exception": false,
     "start_time": "2023-02-06T01:51:43.417587",
     "status": "completed"
    },
    "tags": []
   },
   "outputs": [
    {
     "data": {
      "application/javascript": [
       "parent.postMessage({\"jupyterEvent\": \"custom.exercise_interaction\", \"data\": {\"outcomeType\": 1, \"valueTowardsCompletion\": 0.2, \"interactionType\": 1, \"questionType\": 2, \"questionId\": \"5.3_OneSauce\", \"learnToolsVersion\": \"0.3.4\", \"failureMessage\": \"\", \"exceptionClass\": \"\", \"trace\": \"\"}}, \"*\")"
      ],
      "text/plain": [
       "<IPython.core.display.Javascript object>"
      ]
     },
     "metadata": {},
     "output_type": "display_data"
    },
    {
     "data": {
      "text/markdown": [
       "<span style=\"color:#33cc33\">Correct</span>"
      ],
      "text/plain": [
       "Correct"
      ]
     },
     "metadata": {},
     "output_type": "display_data"
    }
   ],
   "source": [
    "def exactly_one_sauce(ketchup, mustard, onion):\n",
    "    \"\"\"Return whether the customer wants either ketchup or mustard, but not both.\n",
    "    (You may be familiar with this operation under the name \"exclusive or\")\n",
    "    \"\"\"\n",
    "    return (ketchup != mustard)\n",
    "\n",
    "# Check your answer\n",
    "q5.c.check()"
   ]
  },
  {
   "cell_type": "code",
   "execution_count": 19,
   "id": "ad0ffcb3",
   "metadata": {
    "execution": {
     "iopub.execute_input": "2023-02-06T01:51:43.471008Z",
     "iopub.status.busy": "2023-02-06T01:51:43.470564Z",
     "iopub.status.idle": "2023-02-06T01:51:43.475441Z",
     "shell.execute_reply": "2023-02-06T01:51:43.474010Z"
    },
    "papermill": {
     "duration": 0.022156,
     "end_time": "2023-02-06T01:51:43.477990",
     "exception": false,
     "start_time": "2023-02-06T01:51:43.455834",
     "status": "completed"
    },
    "tags": []
   },
   "outputs": [],
   "source": [
    "#q5.c.hint()\n",
    "#q5.c.solution()"
   ]
  },
  {
   "cell_type": "markdown",
   "id": "fdc98575",
   "metadata": {
    "papermill": {
     "duration": 0.012289,
     "end_time": "2023-02-06T01:51:43.503435",
     "exception": false,
     "start_time": "2023-02-06T01:51:43.491146",
     "status": "completed"
    },
    "tags": []
   },
   "source": [
    "# 6. <span title=\"A bit spicy\" style=\"color: darkgreen \">🌶️</span>\n",
    "\n",
    "We’ve seen that calling `bool()` on an integer returns `False` if it’s equal to 0 and `True` otherwise. What happens if we call `int()` on a bool? Try it out in the notebook cell below.\n",
    "\n",
    "Can you take advantage of this to write a succinct function that corresponds to the English sentence \"does the customer want exactly one topping?\"?"
   ]
  },
  {
   "cell_type": "code",
   "execution_count": 20,
   "id": "cfc580b2",
   "metadata": {
    "execution": {
     "iopub.execute_input": "2023-02-06T01:51:43.530139Z",
     "iopub.status.busy": "2023-02-06T01:51:43.529393Z",
     "iopub.status.idle": "2023-02-06T01:51:43.538992Z",
     "shell.execute_reply": "2023-02-06T01:51:43.538132Z"
    },
    "papermill": {
     "duration": 0.025227,
     "end_time": "2023-02-06T01:51:43.541031",
     "exception": false,
     "start_time": "2023-02-06T01:51:43.515804",
     "status": "completed"
    },
    "tags": []
   },
   "outputs": [
    {
     "data": {
      "application/javascript": [
       "parent.postMessage({\"jupyterEvent\": \"custom.exercise_interaction\", \"data\": {\"outcomeType\": 1, \"valueTowardsCompletion\": 0.2, \"interactionType\": 1, \"questionType\": 2, \"questionId\": \"6_OneTopping\", \"learnToolsVersion\": \"0.3.4\", \"failureMessage\": \"\", \"exceptionClass\": \"\", \"trace\": \"\"}}, \"*\")"
      ],
      "text/plain": [
       "<IPython.core.display.Javascript object>"
      ]
     },
     "metadata": {},
     "output_type": "display_data"
    },
    {
     "data": {
      "text/markdown": [
       "<span style=\"color:#33cc33\">Correct:</span> \n",
       "\n",
       "This condition would be pretty complicated to express using just `and`, `or` and `not`, but using boolean-to-integer conversion gives us this short solution:\n",
       "```python\n",
       "return (int(ketchup) + int(mustard) + int(onion)) == 1\n",
       "```\n",
       "\n",
       "Fun fact: we don't technically need to call `int` on the arguments. Just by doing addition with booleans, Python implicitly does the integer conversion. So we could also write...\n",
       "\n",
       "```python\n",
       "return (ketchup + mustard + onion) == 1\n",
       "```"
      ],
      "text/plain": [
       "Correct: \n",
       "\n",
       "This condition would be pretty complicated to express using just `and`, `or` and `not`, but using boolean-to-integer conversion gives us this short solution:\n",
       "```python\n",
       "return (int(ketchup) + int(mustard) + int(onion)) == 1\n",
       "```\n",
       "\n",
       "Fun fact: we don't technically need to call `int` on the arguments. Just by doing addition with booleans, Python implicitly does the integer conversion. So we could also write...\n",
       "\n",
       "```python\n",
       "return (ketchup + mustard + onion) == 1\n",
       "```"
      ]
     },
     "metadata": {},
     "output_type": "display_data"
    }
   ],
   "source": [
    "def exactly_one_topping(ketchup, mustard, onion):\n",
    "    \"\"\"Return whether the customer wants exactly one of the three available toppings\n",
    "    on their hot dog.\n",
    "    \"\"\"\n",
    "    return (int(ketchup + mustard + onion) == 1)\n",
    "\n",
    "# Check your answer\n",
    "q6.check()"
   ]
  },
  {
   "cell_type": "code",
   "execution_count": 21,
   "id": "d87c904c",
   "metadata": {
    "execution": {
     "iopub.execute_input": "2023-02-06T01:51:43.568162Z",
     "iopub.status.busy": "2023-02-06T01:51:43.567228Z",
     "iopub.status.idle": "2023-02-06T01:51:43.571916Z",
     "shell.execute_reply": "2023-02-06T01:51:43.570949Z"
    },
    "papermill": {
     "duration": 0.020631,
     "end_time": "2023-02-06T01:51:43.574174",
     "exception": false,
     "start_time": "2023-02-06T01:51:43.553543",
     "status": "completed"
    },
    "tags": []
   },
   "outputs": [],
   "source": [
    "#q6.hint()\n",
    "#q6.solution()"
   ]
  },
  {
   "cell_type": "markdown",
   "id": "612730d5",
   "metadata": {
    "papermill": {
     "duration": 0.012453,
     "end_time": "2023-02-06T01:51:43.599164",
     "exception": false,
     "start_time": "2023-02-06T01:51:43.586711",
     "status": "completed"
    },
    "tags": []
   },
   "source": [
    "# 7. <span title=\"A bit spicy\" style=\"color: darkgreen \">🌶️</span> (Optional)\n",
    "\n",
    "In this problem we'll be working with a simplified version of [blackjack](https://en.wikipedia.org/wiki/Blackjack) (aka twenty-one). In this version there is one player (who you'll control) and a dealer. Play proceeds as follows:\n",
    "\n",
    "- The player is dealt two face-up cards. The dealer is dealt one face-up card.\n",
    "- The player may ask to be dealt another card ('hit') as many times as they wish. If the sum of their cards exceeds 21, they lose the round immediately.\n",
    "- The dealer then deals additional cards to himself until either:\n",
    "    - the sum of the dealer's cards exceeds 21, in which case the player wins the round\n",
    "    - the sum of the dealer's cards is greater than or equal to 17. If the player's total is greater than the dealer's, the player wins. Otherwise, the dealer wins (even in case of a tie).\n",
    "    \n",
    "When calculating the sum of cards, Jack, Queen, and King count for 10. Aces can count as 1 or 11 (when referring to a player's \"total\" above, we mean the largest total that can be made without exceeding 21. So e.g. A+8 = 19, A+8+8 = 17)\n",
    "\n",
    "For this problem, you'll write a function representing the player's decision-making strategy in this game. We've provided a very unintelligent implementation below:"
   ]
  },
  {
   "cell_type": "code",
   "execution_count": 22,
   "id": "4549c842",
   "metadata": {
    "execution": {
     "iopub.execute_input": "2023-02-06T01:51:43.626579Z",
     "iopub.status.busy": "2023-02-06T01:51:43.626173Z",
     "iopub.status.idle": "2023-02-06T01:51:43.632106Z",
     "shell.execute_reply": "2023-02-06T01:51:43.630994Z"
    },
    "papermill": {
     "duration": 0.022502,
     "end_time": "2023-02-06T01:51:43.634460",
     "exception": false,
     "start_time": "2023-02-06T01:51:43.611958",
     "status": "completed"
    },
    "tags": []
   },
   "outputs": [],
   "source": [
    "def should_hit(dealer_total, player_total, player_low_aces, player_high_aces):\n",
    "    \"\"\"Return True if the player should hit (request another card) given the current game\n",
    "    state, or False if the player should stay.\n",
    "    When calculating a hand's total value, we count aces as \"high\" (with value 11) if doing so\n",
    "    doesn't bring the total above 21, otherwise we count them as low (with value 1). \n",
    "    For example, if the player's hand is {A, A, A, 7}, we will count it as 11 + 1 + 1 + 7,\n",
    "    and therefore set player_total=20, player_low_aces=2, player_high_aces=1.\n",
    "    \"\"\"\n",
    "    return False"
   ]
  },
  {
   "cell_type": "markdown",
   "id": "d0df38d5",
   "metadata": {
    "papermill": {
     "duration": 0.012471,
     "end_time": "2023-02-06T01:51:43.659701",
     "exception": false,
     "start_time": "2023-02-06T01:51:43.647230",
     "status": "completed"
    },
    "tags": []
   },
   "source": [
    "This very conservative agent *always* sticks with the hand of two cards that they're dealt.\n",
    "\n",
    "We'll be simulating games between your player agent and our own dealer agent by calling your function.\n",
    "\n",
    "Try running the function below to see an example of a simulated game:"
   ]
  },
  {
   "cell_type": "code",
   "execution_count": 23,
   "id": "c1e465cc",
   "metadata": {
    "execution": {
     "iopub.execute_input": "2023-02-06T01:51:43.687288Z",
     "iopub.status.busy": "2023-02-06T01:51:43.686613Z",
     "iopub.status.idle": "2023-02-06T01:51:43.692909Z",
     "shell.execute_reply": "2023-02-06T01:51:43.691545Z"
    },
    "papermill": {
     "duration": 0.022927,
     "end_time": "2023-02-06T01:51:43.695416",
     "exception": false,
     "start_time": "2023-02-06T01:51:43.672489",
     "status": "completed"
    },
    "tags": []
   },
   "outputs": [
    {
     "name": "stdout",
     "output_type": "stream",
     "text": [
      "Player starts with Q and J (total = 20)\n",
      "Dealer starts with 7\n",
      "\n",
      "__Player's turn__\n",
      "Player stays\n",
      "\n",
      "__Dealer's turn__\n",
      "Dealer hits and receives J. (total = 17)\n",
      "Dealer stands.\n",
      "Player wins. 20 > 17\n"
     ]
    }
   ],
   "source": [
    "q7.simulate_one_game()"
   ]
  },
  {
   "cell_type": "markdown",
   "id": "f7f058f7",
   "metadata": {
    "papermill": {
     "duration": 0.012661,
     "end_time": "2023-02-06T01:51:43.721962",
     "exception": false,
     "start_time": "2023-02-06T01:51:43.709301",
     "status": "completed"
    },
    "tags": []
   },
   "source": [
    "The real test of your agent's mettle is their average win rate over many games. Try calling the function below to simulate 50000 games of blackjack (it may take a couple seconds):"
   ]
  },
  {
   "cell_type": "code",
   "execution_count": 24,
   "id": "c80500cf",
   "metadata": {
    "execution": {
     "iopub.execute_input": "2023-02-06T01:51:43.749458Z",
     "iopub.status.busy": "2023-02-06T01:51:43.749076Z",
     "iopub.status.idle": "2023-02-06T01:51:45.460336Z",
     "shell.execute_reply": "2023-02-06T01:51:45.458603Z"
    },
    "papermill": {
     "duration": 1.730624,
     "end_time": "2023-02-06T01:51:45.465418",
     "exception": false,
     "start_time": "2023-02-06T01:51:43.734794",
     "status": "completed"
    },
    "tags": []
   },
   "outputs": [
    {
     "name": "stdout",
     "output_type": "stream",
     "text": [
      "Player won 19019 out of 50000 games (win rate = 38.0%)\n"
     ]
    }
   ],
   "source": [
    "q7.simulate(n_games=50000)"
   ]
  },
  {
   "cell_type": "markdown",
   "id": "7ea0e659",
   "metadata": {
    "papermill": {
     "duration": 0.015954,
     "end_time": "2023-02-06T01:51:45.500104",
     "exception": false,
     "start_time": "2023-02-06T01:51:45.484150",
     "status": "completed"
    },
    "tags": []
   },
   "source": [
    "Our dumb agent that completely ignores the game state still manages to win shockingly often!\n",
    "\n",
    "Try adding some more smarts to the `should_hit` function and see how it affects the results."
   ]
  },
  {
   "cell_type": "code",
   "execution_count": 25,
   "id": "e2b1ab2f",
   "metadata": {
    "execution": {
     "iopub.execute_input": "2023-02-06T01:51:45.530040Z",
     "iopub.status.busy": "2023-02-06T01:51:45.529354Z",
     "iopub.status.idle": "2023-02-06T01:51:47.379287Z",
     "shell.execute_reply": "2023-02-06T01:51:47.377990Z"
    },
    "papermill": {
     "duration": 1.868561,
     "end_time": "2023-02-06T01:51:47.382811",
     "exception": false,
     "start_time": "2023-02-06T01:51:45.514250",
     "status": "completed"
    },
    "tags": []
   },
   "outputs": [
    {
     "name": "stdout",
     "output_type": "stream",
     "text": [
      "Player won 20599 out of 50000 games (win rate = 41.2%)\n"
     ]
    }
   ],
   "source": [
    "#Got this to 41%\n",
    "def should_hit(dealer_total, player_total, player_low_aces, player_high_aces):\n",
    "    \"\"\"Return True if the player should hit (request another card) given the current game\n",
    "    state, or False if the player should stay.\n",
    "    When calculating a hand's total value, we count aces as \"high\" (with value 11) if doing so\n",
    "    doesn't bring the total above 21, otherwise we count them as low (with value 1). \n",
    "    For example, if the player's hand is {A, A, A, 7}, we will count it as 11 + 1 + 1 + 7,\n",
    "    and therefore set player_total=20, player_low_aces=2, player_high_aces=1.\n",
    "    \"\"\"\n",
    "    aces=(player_high_aces+player_low_aces)\n",
    "    if player_total==21:\n",
    "        return False\n",
    "    if dealer_total>=17:\n",
    "        if player_total>dealer_total:\n",
    "            return False\n",
    "#     If your sum is more than 17 and dealer gets a card 2-6, odds of winning is in your favor. This is even without including Ties.\n",
    "    player_hit=False\n",
    "    if (aces == 4):\n",
    "        player_hit=False\n",
    "    if player_total<17:\n",
    "        player_hit=True\n",
    "    if (player_high_aces==2 and player_total<=16):\n",
    "        player_hit=True        \n",
    "    if (player_total==16 and player_high_aces>=1):\n",
    "        player_hit=True\n",
    "    if (player_total==11 and player_high_aces>=1):\n",
    "        player_hit=True\n",
    "    if (player_total<=11):\n",
    "        player_hit=True\n",
    "    if (dealer_total<=6):\n",
    "        player_hit=False\n",
    "    return (player_hit)\n",
    "\n",
    "q7.simulate(n_games=50000)"
   ]
  },
  {
   "cell_type": "markdown",
   "id": "5636e00f",
   "metadata": {
    "papermill": {
     "duration": 0.013631,
     "end_time": "2023-02-06T01:51:47.411253",
     "exception": false,
     "start_time": "2023-02-06T01:51:47.397622",
     "status": "completed"
    },
    "tags": []
   },
   "source": [
    "# Keep Going\n",
    "\n",
    "Learn about **[lists and tuples](https://www.kaggle.com/colinmorris/lists)** to handle multiple items of data in a systematic way."
   ]
  },
  {
   "cell_type": "markdown",
   "id": "53699e2e",
   "metadata": {
    "papermill": {
     "duration": 0.013325,
     "end_time": "2023-02-06T01:51:47.438397",
     "exception": false,
     "start_time": "2023-02-06T01:51:47.425072",
     "status": "completed"
    },
    "tags": []
   },
   "source": [
    "---\n",
    "\n",
    "\n",
    "\n",
    "\n",
    "*Have questions or comments? Visit the [course discussion forum](https://www.kaggle.com/learn/python/discussion) to chat with other learners.*"
   ]
  }
 ],
 "metadata": {
  "kernelspec": {
   "display_name": "Python 3",
   "language": "python",
   "name": "python3"
  },
  "language_info": {
   "codemirror_mode": {
    "name": "ipython",
    "version": 3
   },
   "file_extension": ".py",
   "mimetype": "text/x-python",
   "name": "python",
   "nbconvert_exporter": "python",
   "pygments_lexer": "ipython3",
   "version": "3.7.12"
  },
  "papermill": {
   "default_parameters": {},
   "duration": 14.21276,
   "end_time": "2023-02-06T01:51:48.072582",
   "environment_variables": {},
   "exception": null,
   "input_path": "__notebook__.ipynb",
   "output_path": "__notebook__.ipynb",
   "parameters": {},
   "start_time": "2023-02-06T01:51:33.859822",
   "version": "2.3.4"
  }
 },
 "nbformat": 4,
 "nbformat_minor": 5
}
