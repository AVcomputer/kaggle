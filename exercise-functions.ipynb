{
 "cells": [
  {
   "cell_type": "markdown",
   "id": "9579c217",
   "metadata": {
    "papermill": {
     "duration": 0.007016,
     "end_time": "2023-02-05T00:51:46.120653",
     "exception": false,
     "start_time": "2023-02-05T00:51:46.113637",
     "status": "completed"
    },
    "tags": []
   },
   "source": [
    "**This notebook is an exercise in the [Intro to Programming](https://www.kaggle.com/learn/intro-to-programming) course.  You can reference the tutorial at [this link](https://www.kaggle.com/alexisbcook/functions).**\n",
    "\n",
    "---\n"
   ]
  },
  {
   "cell_type": "markdown",
   "id": "0e0a2baa",
   "metadata": {
    "papermill": {
     "duration": 0.005412,
     "end_time": "2023-02-05T00:51:46.131958",
     "exception": false,
     "start_time": "2023-02-05T00:51:46.126546",
     "status": "completed"
    },
    "tags": []
   },
   "source": [
    "In the tutorial, you learned about functions. In this exercise, you'll write some of your own!\n",
    "\n",
    "# Set up the notebook\n",
    "\n",
    "Run the next code cell without changes to set up the notebook."
   ]
  },
  {
   "cell_type": "code",
   "execution_count": 1,
   "id": "654a2a66",
   "metadata": {
    "execution": {
     "iopub.execute_input": "2023-02-05T00:51:46.145741Z",
     "iopub.status.busy": "2023-02-05T00:51:46.145203Z",
     "iopub.status.idle": "2023-02-05T00:51:46.198778Z",
     "shell.execute_reply": "2023-02-05T00:51:46.197592Z"
    },
    "papermill": {
     "duration": 0.063616,
     "end_time": "2023-02-05T00:51:46.201375",
     "exception": false,
     "start_time": "2023-02-05T00:51:46.137759",
     "status": "completed"
    },
    "tags": []
   },
   "outputs": [
    {
     "name": "stdout",
     "output_type": "stream",
     "text": [
      "Setup complete.\n"
     ]
    }
   ],
   "source": [
    "# Set up the exercise\n",
    "import math\n",
    "from learntools.core import binder\n",
    "binder.bind(globals())\n",
    "from learntools.intro_to_programming.ex2 import *\n",
    "print('Setup complete.')"
   ]
  },
  {
   "cell_type": "markdown",
   "id": "777733d3",
   "metadata": {
    "papermill": {
     "duration": 0.005386,
     "end_time": "2023-02-05T00:51:46.212481",
     "exception": false,
     "start_time": "2023-02-05T00:51:46.207095",
     "status": "completed"
    },
    "tags": []
   },
   "source": [
    "# Question 1\n",
    "\n",
    "In the [House Prices - Advanced Regression Techniques competition](https://www.kaggle.com/c/house-prices-advanced-regression-techniques/overview), you need to use information like the number of bedrooms and bathrooms to predict the price of a house.  Inspired by this competition, you'll write your own function to do this.\n",
    "\n",
    "In the next code cell, create a function `get_expected_cost()` that has two arguments:\n",
    "- `beds` - number of bedrooms \n",
    "- `baths` - number of bathrooms\n",
    "\n",
    "It should return the expected cost of a house with that number of bedrooms and bathrooms.  Assume that:\n",
    "- the expected cost for a house with 0 bedrooms and 0 bathrooms is `80000`.  \n",
    "- each bedroom adds `30000` to the expected cost\n",
    "- each bathroom adds `10000` to the expected cost.\n",
    "\n",
    "For instance, \n",
    "- a house with 1 bedroom and 1 bathroom has an expected cost of `120000`, and \n",
    "- a house with 2 bedrooms and 1 bathroom has an expected cost of `150000`."
   ]
  },
  {
   "cell_type": "code",
   "execution_count": 2,
   "id": "38306640",
   "metadata": {
    "execution": {
     "iopub.execute_input": "2023-02-05T00:51:46.225759Z",
     "iopub.status.busy": "2023-02-05T00:51:46.224968Z",
     "iopub.status.idle": "2023-02-05T00:51:46.237327Z",
     "shell.execute_reply": "2023-02-05T00:51:46.236151Z"
    },
    "papermill": {
     "duration": 0.022023,
     "end_time": "2023-02-05T00:51:46.240056",
     "exception": false,
     "start_time": "2023-02-05T00:51:46.218033",
     "status": "completed"
    },
    "tags": []
   },
   "outputs": [
    {
     "data": {
      "application/javascript": [
       "parent.postMessage({\"jupyterEvent\": \"custom.exercise_interaction\", \"data\": {\"outcomeType\": 1, \"valueTowardsCompletion\": 0.2, \"interactionType\": 1, \"questionType\": 2, \"questionId\": \"1_GetExpectedCost\", \"learnToolsVersion\": \"0.3.4\", \"failureMessage\": \"\", \"exceptionClass\": \"\", \"trace\": \"\"}}, \"*\")"
      ],
      "text/plain": [
       "<IPython.core.display.Javascript object>"
      ]
     },
     "metadata": {},
     "output_type": "display_data"
    },
    {
     "data": {
      "text/markdown": [
       "<span style=\"color:#33cc33\">Correct</span>"
      ],
      "text/plain": [
       "Correct"
      ]
     },
     "metadata": {},
     "output_type": "display_data"
    }
   ],
   "source": [
    "# TODO: Complete the function\n",
    "def get_expected_cost(beds, baths):\n",
    "    house = 80000\n",
    "    bedroom = 30000\n",
    "    bathroom = 10000\n",
    "    value = house + (bedroom*beds) + (bathroom*baths)\n",
    "    return value\n",
    "\n",
    "# Check your answer \n",
    "q1.check()"
   ]
  },
  {
   "cell_type": "code",
   "execution_count": 3,
   "id": "89716538",
   "metadata": {
    "execution": {
     "iopub.execute_input": "2023-02-05T00:51:46.255158Z",
     "iopub.status.busy": "2023-02-05T00:51:46.254367Z",
     "iopub.status.idle": "2023-02-05T00:51:46.258544Z",
     "shell.execute_reply": "2023-02-05T00:51:46.257620Z"
    },
    "papermill": {
     "duration": 0.013377,
     "end_time": "2023-02-05T00:51:46.260584",
     "exception": false,
     "start_time": "2023-02-05T00:51:46.247207",
     "status": "completed"
    },
    "tags": []
   },
   "outputs": [],
   "source": [
    "# Uncomment to see a hint\n",
    "#q1.hint()\n",
    "\n",
    "# Uncomment to view the solution\n",
    "#q1.solution()"
   ]
  },
  {
   "cell_type": "markdown",
   "id": "b58ddb96",
   "metadata": {
    "papermill": {
     "duration": 0.005752,
     "end_time": "2023-02-05T00:51:46.272295",
     "exception": false,
     "start_time": "2023-02-05T00:51:46.266543",
     "status": "completed"
    },
    "tags": []
   },
   "source": [
    "# Question 2\n",
    "\n",
    "You are thinking about buying a home and want to get an idea of how much you will spend, based on the number of bedrooms and bathrooms.  You are trying to decide between four different options:\n",
    "- Option 1: house with two bedrooms and three bathrooms\n",
    "- Option 2: house with three bedrooms and two bathrooms\n",
    "- Option 3: house with three bedrooms and three bathrooms\n",
    "- Option 4: house with three bedrooms and four bathrooms\n",
    "\n",
    "Use the `get_expected_cost()` function you defined in question 1 to set `option_1`, `option_2`, `option_3`, and `option_4` to the expected cost of each option."
   ]
  },
  {
   "cell_type": "code",
   "execution_count": 4,
   "id": "b2afc985",
   "metadata": {
    "execution": {
     "iopub.execute_input": "2023-02-05T00:51:46.285821Z",
     "iopub.status.busy": "2023-02-05T00:51:46.285411Z",
     "iopub.status.idle": "2023-02-05T00:51:46.295779Z",
     "shell.execute_reply": "2023-02-05T00:51:46.294956Z"
    },
    "papermill": {
     "duration": 0.0195,
     "end_time": "2023-02-05T00:51:46.297739",
     "exception": false,
     "start_time": "2023-02-05T00:51:46.278239",
     "status": "completed"
    },
    "tags": []
   },
   "outputs": [
    {
     "name": "stdout",
     "output_type": "stream",
     "text": [
      "170000\n",
      "190000\n",
      "200000\n",
      "210000\n"
     ]
    },
    {
     "data": {
      "application/javascript": [
       "parent.postMessage({\"jupyterEvent\": \"custom.exercise_interaction\", \"data\": {\"outcomeType\": 1, \"valueTowardsCompletion\": 0.2, \"interactionType\": 1, \"questionType\": 1, \"questionId\": \"2_RunGetExpectedCost\", \"learnToolsVersion\": \"0.3.4\", \"failureMessage\": \"\", \"exceptionClass\": \"\", \"trace\": \"\"}}, \"*\")"
      ],
      "text/plain": [
       "<IPython.core.display.Javascript object>"
      ]
     },
     "metadata": {},
     "output_type": "display_data"
    },
    {
     "data": {
      "text/markdown": [
       "<span style=\"color:#33cc33\">Correct</span>"
      ],
      "text/plain": [
       "Correct"
      ]
     },
     "metadata": {},
     "output_type": "display_data"
    }
   ],
   "source": [
    "# TODO: Use the get_expected_cost function to fill in each value\n",
    "option_one = get_expected_cost(2,3)\n",
    "option_two = get_expected_cost(3,2)\n",
    "option_three = get_expected_cost(3,3)\n",
    "option_four = get_expected_cost(3,4)\n",
    "\n",
    "print(option_one)\n",
    "print(option_two)\n",
    "print(option_three)\n",
    "print(option_four)\n",
    "\n",
    "# Check your answer\n",
    "q2.check()"
   ]
  },
  {
   "cell_type": "code",
   "execution_count": 5,
   "id": "5fb8e6cf",
   "metadata": {
    "execution": {
     "iopub.execute_input": "2023-02-05T00:51:46.311781Z",
     "iopub.status.busy": "2023-02-05T00:51:46.311439Z",
     "iopub.status.idle": "2023-02-05T00:51:46.315684Z",
     "shell.execute_reply": "2023-02-05T00:51:46.314540Z"
    },
    "papermill": {
     "duration": 0.013954,
     "end_time": "2023-02-05T00:51:46.317915",
     "exception": false,
     "start_time": "2023-02-05T00:51:46.303961",
     "status": "completed"
    },
    "tags": []
   },
   "outputs": [],
   "source": [
    "# Uncomment to see a hint\n",
    "#q2.hint()\n",
    "\n",
    "# Uncomment to view the solution\n",
    "#q2.solution()"
   ]
  },
  {
   "cell_type": "markdown",
   "id": "3d51d2bc",
   "metadata": {
    "papermill": {
     "duration": 0.005789,
     "end_time": "2023-02-05T00:51:46.329862",
     "exception": false,
     "start_time": "2023-02-05T00:51:46.324073",
     "status": "completed"
    },
    "tags": []
   },
   "source": [
    "# Question 3\n",
    "\n",
    "You're a home decorator, and you'd like to use Python to streamline some of your work.  Specifically, you're creating a tool that you intend to use to calculate the cost of painting a room.\n",
    "\n",
    "As a first step, define a function `get_cost()` that takes as input:\n",
    "- `sqft_walls` = total square feet of walls to be painted\n",
    "- `sqft_ceiling` = square feet of ceiling to be painted\n",
    "- `sqft_per_gallon` = number of square feet that you can cover with one gallon of paint\n",
    "- `cost_per_gallon` = cost (in dollars) of one gallon of paint\n",
    "\n",
    "It should return the cost (in dollars) of putting one coat of paint on all walls and the ceiling.  Assume you can buy the exact amount of paint that you need, so you can buy partial gallons (e.g., if you need 7.523 gallons, you can buy that exact amount, instead of needing to buy 8 gallons and waste some paint).  Do not round your answer."
   ]
  },
  {
   "cell_type": "code",
   "execution_count": 6,
   "id": "aea98831",
   "metadata": {
    "execution": {
     "iopub.execute_input": "2023-02-05T00:51:46.343631Z",
     "iopub.status.busy": "2023-02-05T00:51:46.343255Z",
     "iopub.status.idle": "2023-02-05T00:51:46.353150Z",
     "shell.execute_reply": "2023-02-05T00:51:46.352096Z"
    },
    "papermill": {
     "duration": 0.019588,
     "end_time": "2023-02-05T00:51:46.355476",
     "exception": false,
     "start_time": "2023-02-05T00:51:46.335888",
     "status": "completed"
    },
    "tags": []
   },
   "outputs": [
    {
     "data": {
      "application/javascript": [
       "parent.postMessage({\"jupyterEvent\": \"custom.exercise_interaction\", \"data\": {\"outcomeType\": 1, \"valueTowardsCompletion\": 0.2, \"interactionType\": 1, \"questionType\": 2, \"questionId\": \"3_GetCostPaint\", \"learnToolsVersion\": \"0.3.4\", \"failureMessage\": \"\", \"exceptionClass\": \"\", \"trace\": \"\"}}, \"*\")"
      ],
      "text/plain": [
       "<IPython.core.display.Javascript object>"
      ]
     },
     "metadata": {},
     "output_type": "display_data"
    },
    {
     "data": {
      "text/markdown": [
       "<span style=\"color:#33cc33\">Correct</span>"
      ],
      "text/plain": [
       "Correct"
      ]
     },
     "metadata": {},
     "output_type": "display_data"
    }
   ],
   "source": [
    "# TODO: Finish defining the function\n",
    "def get_cost(sqft_walls, sqft_ceiling, sqft_per_gallon, cost_per_gallon):\n",
    "    cost = ((sqft_walls+sqft_ceiling)/sqft_per_gallon)*cost_per_gallon\n",
    "    return cost\n",
    "\n",
    "# Check your answer\n",
    "q3.check()"
   ]
  },
  {
   "cell_type": "code",
   "execution_count": 7,
   "id": "9c825d5b",
   "metadata": {
    "execution": {
     "iopub.execute_input": "2023-02-05T00:51:46.370937Z",
     "iopub.status.busy": "2023-02-05T00:51:46.370026Z",
     "iopub.status.idle": "2023-02-05T00:51:46.374872Z",
     "shell.execute_reply": "2023-02-05T00:51:46.373745Z"
    },
    "papermill": {
     "duration": 0.014862,
     "end_time": "2023-02-05T00:51:46.377111",
     "exception": false,
     "start_time": "2023-02-05T00:51:46.362249",
     "status": "completed"
    },
    "tags": []
   },
   "outputs": [],
   "source": [
    "# Uncomment to see a hint\n",
    "#q3.hint()\n",
    "\n",
    "# Uncomment to view the solution\n",
    "#q3.solution()"
   ]
  },
  {
   "cell_type": "markdown",
   "id": "d1cf020c",
   "metadata": {
    "papermill": {
     "duration": 0.006933,
     "end_time": "2023-02-05T00:51:46.390604",
     "exception": false,
     "start_time": "2023-02-05T00:51:46.383671",
     "status": "completed"
    },
    "tags": []
   },
   "source": [
    "# Question 4\n",
    "\n",
    "Use the `get_cost()` function you defined in Question 3 to calculate the cost of applying one coat of paint to a room with:\n",
    "- 432 square feet of walls, and\n",
    "- 144 square feet of ceiling.\n",
    "\n",
    "Assume that one gallon of paint covers 400 square feet and costs $15.  As in Question 3, assume you can buy partial gallons of paint.  Do not round your answer."
   ]
  },
  {
   "cell_type": "code",
   "execution_count": 8,
   "id": "b2a26c55",
   "metadata": {
    "execution": {
     "iopub.execute_input": "2023-02-05T00:51:46.405485Z",
     "iopub.status.busy": "2023-02-05T00:51:46.405057Z",
     "iopub.status.idle": "2023-02-05T00:51:46.414364Z",
     "shell.execute_reply": "2023-02-05T00:51:46.413084Z"
    },
    "papermill": {
     "duration": 0.01942,
     "end_time": "2023-02-05T00:51:46.416576",
     "exception": false,
     "start_time": "2023-02-05T00:51:46.397156",
     "status": "completed"
    },
    "tags": []
   },
   "outputs": [
    {
     "data": {
      "application/javascript": [
       "parent.postMessage({\"jupyterEvent\": \"custom.exercise_interaction\", \"data\": {\"outcomeType\": 1, \"valueTowardsCompletion\": 0.2, \"interactionType\": 1, \"questionType\": 1, \"questionId\": \"4_GetCostPaintExample\", \"learnToolsVersion\": \"0.3.4\", \"failureMessage\": \"\", \"exceptionClass\": \"\", \"trace\": \"\"}}, \"*\")"
      ],
      "text/plain": [
       "<IPython.core.display.Javascript object>"
      ]
     },
     "metadata": {},
     "output_type": "display_data"
    },
    {
     "data": {
      "text/markdown": [
       "<span style=\"color:#33cc33\">Correct</span>"
      ],
      "text/plain": [
       "Correct"
      ]
     },
     "metadata": {},
     "output_type": "display_data"
    }
   ],
   "source": [
    "# TODO: Set the project_cost variable to the cost of the project\n",
    "project_cost = get_cost(432,144,400,15)\n",
    "\n",
    "# Check your answer\n",
    "q4.check()"
   ]
  },
  {
   "cell_type": "code",
   "execution_count": 9,
   "id": "c96e872f",
   "metadata": {
    "execution": {
     "iopub.execute_input": "2023-02-05T00:51:46.432326Z",
     "iopub.status.busy": "2023-02-05T00:51:46.431660Z",
     "iopub.status.idle": "2023-02-05T00:51:46.436261Z",
     "shell.execute_reply": "2023-02-05T00:51:46.435451Z"
    },
    "papermill": {
     "duration": 0.015073,
     "end_time": "2023-02-05T00:51:46.438339",
     "exception": false,
     "start_time": "2023-02-05T00:51:46.423266",
     "status": "completed"
    },
    "tags": []
   },
   "outputs": [],
   "source": [
    "# Uncomment to see a hint\n",
    "#q4.hint()\n",
    "\n",
    "# Uncomment to view the solution\n",
    "#q4.solution()"
   ]
  },
  {
   "cell_type": "markdown",
   "id": "ecac12bc",
   "metadata": {
    "papermill": {
     "duration": 0.006623,
     "end_time": "2023-02-05T00:51:46.451793",
     "exception": false,
     "start_time": "2023-02-05T00:51:46.445170",
     "status": "completed"
    },
    "tags": []
   },
   "source": [
    "# 🌶️ Question 5\n",
    "\n",
    "Now say you can no longer buy fractions of a gallon.  (For instance, if you need 4.3 gallons to do a project, then you have to buy 5 gallons of paint.)\n",
    "\n",
    "With this new scenario, you will create a new function `get_actual_cost` that uses the same inputs and calculates the cost of your project.\n",
    "\n",
    "One function that you'll need to use to do this is `math.ceil()`.  We demonstrate usage of this function in the code cell below.  It takes as a number as input and rounds the number up to the nearest integer.  \n",
    "\n",
    "Run the next code cell to test this function for yourself.  Feel free to change the value of `test_value` and make sure `math.ceil()` returns the number you expect."
   ]
  },
  {
   "cell_type": "code",
   "execution_count": 10,
   "id": "1a815548",
   "metadata": {
    "execution": {
     "iopub.execute_input": "2023-02-05T00:51:46.467335Z",
     "iopub.status.busy": "2023-02-05T00:51:46.466872Z",
     "iopub.status.idle": "2023-02-05T00:51:46.472705Z",
     "shell.execute_reply": "2023-02-05T00:51:46.471377Z"
    },
    "papermill": {
     "duration": 0.016684,
     "end_time": "2023-02-05T00:51:46.475301",
     "exception": false,
     "start_time": "2023-02-05T00:51:46.458617",
     "status": "completed"
    },
    "tags": []
   },
   "outputs": [
    {
     "name": "stdout",
     "output_type": "stream",
     "text": [
      "3\n"
     ]
    }
   ],
   "source": [
    "test_value = 2.17\n",
    "\n",
    "rounded_value = math.ceil(test_value)\n",
    "print(rounded_value)"
   ]
  },
  {
   "cell_type": "markdown",
   "id": "04ee6999",
   "metadata": {
    "papermill": {
     "duration": 0.006489,
     "end_time": "2023-02-05T00:51:46.488442",
     "exception": false,
     "start_time": "2023-02-05T00:51:46.481953",
     "status": "completed"
    },
    "tags": []
   },
   "source": [
    "Use the next code cell to define the function `get_actual_cost()`.  You'll need to use the `math.ceil()` function to do this.\n",
    "\n",
    "When answering this question, note that it's completely valid to define a function that makes use of another function.  For instance, we can define a function `round_up_and_divide_by_three` that makes use of the `math.ceil` function:\n",
    "```\n",
    "def round_up_and_divide_by_three(num):\n",
    "    new_value = math.ceil(num)\n",
    "    final_value = new_value / 3\n",
    "    return final_value\n",
    "```"
   ]
  },
  {
   "cell_type": "code",
   "execution_count": 11,
   "id": "1e7d0639",
   "metadata": {
    "execution": {
     "iopub.execute_input": "2023-02-05T00:51:46.504088Z",
     "iopub.status.busy": "2023-02-05T00:51:46.503699Z",
     "iopub.status.idle": "2023-02-05T00:51:46.514730Z",
     "shell.execute_reply": "2023-02-05T00:51:46.513426Z"
    },
    "papermill": {
     "duration": 0.021643,
     "end_time": "2023-02-05T00:51:46.517030",
     "exception": false,
     "start_time": "2023-02-05T00:51:46.495387",
     "status": "completed"
    },
    "tags": []
   },
   "outputs": [
    {
     "data": {
      "application/javascript": [
       "parent.postMessage({\"jupyterEvent\": \"custom.exercise_interaction\", \"data\": {\"outcomeType\": 1, \"valueTowardsCompletion\": 0.2, \"interactionType\": 1, \"questionType\": 2, \"questionId\": \"5_NoMoreFractions\", \"learnToolsVersion\": \"0.3.4\", \"failureMessage\": \"\", \"exceptionClass\": \"\", \"trace\": \"\"}}, \"*\")"
      ],
      "text/plain": [
       "<IPython.core.display.Javascript object>"
      ]
     },
     "metadata": {},
     "output_type": "display_data"
    },
    {
     "data": {
      "text/markdown": [
       "<span style=\"color:#33cc33\">Correct</span>"
      ],
      "text/plain": [
       "Correct"
      ]
     },
     "metadata": {},
     "output_type": "display_data"
    }
   ],
   "source": [
    "def get_actual_cost(sqft_walls, sqft_ceiling, sqft_per_gallon, cost_per_gallon):\n",
    "    gallons = ((sqft_walls+sqft_ceiling)/sqft_per_gallon)\n",
    "    cost = math.ceil(gallons)*cost_per_gallon\n",
    "    return cost\n",
    "\n",
    "# Check your answer\n",
    "q5.check()"
   ]
  },
  {
   "cell_type": "code",
   "execution_count": 12,
   "id": "b36ed91f",
   "metadata": {
    "execution": {
     "iopub.execute_input": "2023-02-05T00:51:46.532704Z",
     "iopub.status.busy": "2023-02-05T00:51:46.532360Z",
     "iopub.status.idle": "2023-02-05T00:51:46.536545Z",
     "shell.execute_reply": "2023-02-05T00:51:46.535375Z"
    },
    "papermill": {
     "duration": 0.014524,
     "end_time": "2023-02-05T00:51:46.538668",
     "exception": false,
     "start_time": "2023-02-05T00:51:46.524144",
     "status": "completed"
    },
    "tags": []
   },
   "outputs": [],
   "source": [
    "# Uncomment to see a hint\n",
    "#q5.hint()\n",
    "\n",
    "# Uncomment to view the solution\n",
    "#q5.solution()"
   ]
  },
  {
   "cell_type": "markdown",
   "id": "1a4474ba",
   "metadata": {
    "papermill": {
     "duration": 0.006948,
     "end_time": "2023-02-05T00:51:46.552755",
     "exception": false,
     "start_time": "2023-02-05T00:51:46.545807",
     "status": "completed"
    },
    "tags": []
   },
   "source": [
    "Once your function is verified as correct, run the next code cell to calculate the updated cost of your project."
   ]
  },
  {
   "cell_type": "code",
   "execution_count": 13,
   "id": "e636eddd",
   "metadata": {
    "execution": {
     "iopub.execute_input": "2023-02-05T00:51:46.569046Z",
     "iopub.status.busy": "2023-02-05T00:51:46.568356Z",
     "iopub.status.idle": "2023-02-05T00:51:46.574647Z",
     "shell.execute_reply": "2023-02-05T00:51:46.573598Z"
    },
    "papermill": {
     "duration": 0.016879,
     "end_time": "2023-02-05T00:51:46.576766",
     "exception": false,
     "start_time": "2023-02-05T00:51:46.559887",
     "status": "completed"
    },
    "tags": []
   },
   "outputs": [
    {
     "data": {
      "text/plain": [
       "30"
      ]
     },
     "execution_count": 13,
     "metadata": {},
     "output_type": "execute_result"
    }
   ],
   "source": [
    "get_actual_cost(432, 144, 400, 15) "
   ]
  },
  {
   "cell_type": "markdown",
   "id": "4b1c5a0a",
   "metadata": {
    "papermill": {
     "duration": 0.006918,
     "end_time": "2023-02-05T00:51:46.590834",
     "exception": false,
     "start_time": "2023-02-05T00:51:46.583916",
     "status": "completed"
    },
    "tags": []
   },
   "source": [
    "Say you're working with a slightly larger room.  Run the next code cell to calculate the cost of the project."
   ]
  },
  {
   "cell_type": "code",
   "execution_count": 14,
   "id": "aab31109",
   "metadata": {
    "execution": {
     "iopub.execute_input": "2023-02-05T00:51:46.606979Z",
     "iopub.status.busy": "2023-02-05T00:51:46.606342Z",
     "iopub.status.idle": "2023-02-05T00:51:46.612493Z",
     "shell.execute_reply": "2023-02-05T00:51:46.611469Z"
    },
    "papermill": {
     "duration": 0.016851,
     "end_time": "2023-02-05T00:51:46.614820",
     "exception": false,
     "start_time": "2023-02-05T00:51:46.597969",
     "status": "completed"
    },
    "tags": []
   },
   "outputs": [
    {
     "data": {
      "text/plain": [
       "45"
      ]
     },
     "execution_count": 14,
     "metadata": {},
     "output_type": "execute_result"
    }
   ],
   "source": [
    "get_actual_cost(594, 288, 400, 15) "
   ]
  },
  {
   "cell_type": "markdown",
   "id": "d4e9dc4b",
   "metadata": {
    "papermill": {
     "duration": 0.007017,
     "end_time": "2023-02-05T00:51:46.629276",
     "exception": false,
     "start_time": "2023-02-05T00:51:46.622259",
     "status": "completed"
    },
    "tags": []
   },
   "source": [
    "# Keep going\n",
    "\n",
    "Continue to learn about **[data types](https://www.kaggle.com/alexisbcook/data-types)**."
   ]
  },
  {
   "cell_type": "markdown",
   "id": "0604defb",
   "metadata": {
    "papermill": {
     "duration": 0.006961,
     "end_time": "2023-02-05T00:51:46.643360",
     "exception": false,
     "start_time": "2023-02-05T00:51:46.636399",
     "status": "completed"
    },
    "tags": []
   },
   "source": [
    "---\n",
    "\n",
    "\n",
    "\n",
    "\n",
    "*Have questions or comments? Visit the [course discussion forum](https://www.kaggle.com/learn/intro-to-programming/discussion) to chat with other learners.*"
   ]
  }
 ],
 "metadata": {
  "kernelspec": {
   "display_name": "Python 3",
   "language": "python",
   "name": "python3"
  },
  "language_info": {
   "codemirror_mode": {
    "name": "ipython",
    "version": 3
   },
   "file_extension": ".py",
   "mimetype": "text/x-python",
   "name": "python",
   "nbconvert_exporter": "python",
   "pygments_lexer": "ipython3",
   "version": "3.7.12"
  },
  "papermill": {
   "default_parameters": {},
   "duration": 10.692243,
   "end_time": "2023-02-05T00:51:47.271960",
   "environment_variables": {},
   "exception": null,
   "input_path": "__notebook__.ipynb",
   "output_path": "__notebook__.ipynb",
   "parameters": {},
   "start_time": "2023-02-05T00:51:36.579717",
   "version": "2.3.4"
  }
 },
 "nbformat": 4,
 "nbformat_minor": 5
}
